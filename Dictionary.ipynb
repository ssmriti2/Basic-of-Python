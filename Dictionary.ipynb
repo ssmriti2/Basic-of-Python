{
 "cells": [
  {
   "cell_type": "markdown",
   "id": "30a9a28c",
   "metadata": {},
   "source": [
    "Python Dictionary\n",
    "\n",
    "\n",
    "\n",
    "\n",
    "Dictionaries are used to store data values in key:value pairs.\n",
    "\n",
    "\n",
    "\n",
    "\n",
    "A dictionary is collection which is:\n",
    "\n",
    "\n",
    "\n",
    "\n",
    "Ordered:\n",
    "\n",
    "\n",
    "\n",
    "\n",
    "\n",
    "Dictionaries are ordered means that the items have a defined order, and that will not change.\n",
    "\n",
    "\n",
    "\n",
    "\n",
    "\n",
    "\n",
    "\n",
    "\n",
    "\n",
    "Changeable:\n",
    "\n",
    "Dictionaries are changeable, meaning we can change, add, or remove items after the dictionary has been created.\n",
    "Duplicates not allowed:\n",
    "\n",
    "Dictionaries cannot have two items with the same key.\n",
    "Dictionary are also denoted by curly brackets { }\n",
    "\n",
    "Unlike Lists, Dictionaries are indexed by custom keys instead of sequence of numbers as in Lists."
   ]
  },
  {
   "cell_type": "markdown",
   "id": "ab422d4f",
   "metadata": {},
   "source": [
    "1. Creating Dictionary\n",
    "\n",
    "\n",
    "\n",
    "\n",
    "Dictionary are create using curly brackets { }\n",
    "\n",
    "\n",
    "\n",
    "\n",
    "Unlike Lists, Dictionary has custom index created by user itself i.e. Dictionaries are used to store data values in key:value pairs.\n",
    "\n",
    "\n",
    "\n",
    "\n",
    "\n",
    "\n",
    "\n",
    "\n",
    "Dictionary creation:\n",
    "\n",
    "\n",
    "\n",
    "\n",
    "\n",
    "\n",
    "create empty dictionary\n",
    "\n",
    "\n",
    "\n",
    "\n",
    "E.g empt_dict = {}\n",
    "\n",
    "\n",
    "\n",
    "\n",
    "create simple dictionary\n",
    "\n",
    "\n",
    "\n",
    "E.g. simple_dict = {'mango': 2, 'banana': 4}\n",
    "\n",
    "\n",
    "\n",
    "create nested dictionary\n",
    "\n",
    "\n",
    "\n",
    "\n",
    "\n",
    "E.g. nested_dict = {'fruits': {'mango': 2, 'banana': 4}, 'drinks': {'coke': 3, 'frooti': 4}}"
   ]
  },
  {
   "cell_type": "code",
   "execution_count": 7,
   "id": "98fdf39b",
   "metadata": {},
   "outputs": [
    {
     "name": "stdout",
     "output_type": "stream",
     "text": [
      "{}\n"
     ]
    }
   ],
   "source": [
    "# 1. create empty dict\n",
    "\n",
    "dicts={}\n",
    "print(dicts)"
   ]
  },
  {
   "cell_type": "code",
   "execution_count": 8,
   "id": "3bb73a27",
   "metadata": {},
   "outputs": [
    {
     "name": "stdout",
     "output_type": "stream",
     "text": [
      "<class 'dict'>\n"
     ]
    }
   ],
   "source": [
    "# check type \n",
    "\n",
    "dicts={}\n",
    "print(type(dicts))"
   ]
  },
  {
   "cell_type": "code",
   "execution_count": 9,
   "id": "3fef0d97",
   "metadata": {},
   "outputs": [
    {
     "name": "stdout",
     "output_type": "stream",
     "text": [
      "{'banana': 2, 'fruits': 'mango', 'food': 'momo'}\n"
     ]
    }
   ],
   "source": [
    "# 2. create simple dict\n",
    "\n",
    "\n",
    "dicts={'banana':2,  'fruits':\"mango\", 'food':'momo'}\n",
    "print(dicts)"
   ]
  },
  {
   "cell_type": "code",
   "execution_count": 10,
   "id": "3d40a2ff",
   "metadata": {},
   "outputs": [
    {
     "name": "stdout",
     "output_type": "stream",
     "text": [
      "<class 'dict'>\n"
     ]
    }
   ],
   "source": [
    "# check type\n",
    "\n",
    "\n",
    "\n",
    "dicts={'banana':2,  'fruits':\"mango\", 'food':'momo'}\n",
    "print(type(dicts))"
   ]
  },
  {
   "cell_type": "code",
   "execution_count": 13,
   "id": "90896a7e",
   "metadata": {},
   "outputs": [
    {
     "name": "stdout",
     "output_type": "stream",
     "text": [
      "{'banana': 2, 'fruits': 'mango', 'food': 'momo', 'other': {'vegetable': 'cauliflower', 'currency': 'nepali'}}\n"
     ]
    }
   ],
   "source": [
    "# 3. create nested dict\n",
    "\n",
    "\n",
    "\n",
    "dicts={'banana':2,  'fruits':\"mango\", 'food':'momo', 'other':{'vegetable':'cauliflower', 'currency':'nepali' }}\n",
    "print(dicts)\n"
   ]
  },
  {
   "cell_type": "code",
   "execution_count": 14,
   "id": "2f577c4f",
   "metadata": {},
   "outputs": [
    {
     "name": "stdout",
     "output_type": "stream",
     "text": [
      "<class 'dict'>\n"
     ]
    }
   ],
   "source": [
    "# check type\n",
    "\n",
    "\n",
    "nested_dict = {'fruits': {'mango': 2, 'banana': 3}, 'drinks': {'coke': 3, 'frooti': 10}}\n",
    "print(type(nested_dict))"
   ]
  },
  {
   "cell_type": "markdown",
   "id": "93abcfd0",
   "metadata": {},
   "source": [
    "2. Indexing Dictionarie\n",
    "\n",
    "\n",
    "Like List, we can use large brackets [ ] to extract dictionary values. However, main difference is List indexing starts with 0 i.e. sequence of numbers, But Dictionary indexing is performed using user inserted index/keys."
   ]
  },
  {
   "cell_type": "code",
   "execution_count": 1,
   "id": "caa90a1b",
   "metadata": {},
   "outputs": [
    {
     "name": "stdout",
     "output_type": "stream",
     "text": [
      "{'mango': 100, 'banana': 10, 'orange': 200, 'kiwi': 20}\n"
     ]
    }
   ],
   "source": [
    "#Indexing Simple Dictionary\n",
    "\n",
    "fruits_count = {'mango': 100, 'banana': 10, 'orange': 200, 'kiwi': 20}\n",
    "print(fruits_count)"
   ]
  },
  {
   "cell_type": "code",
   "execution_count": 6,
   "id": "007eb795",
   "metadata": {},
   "outputs": [
    {
     "name": "stdout",
     "output_type": "stream",
     "text": [
      "100\n",
      "10\n",
      "200\n",
      "20\n",
      "89\n"
     ]
    }
   ],
   "source": [
    "# create a simple dictionary\n",
    "# access different items\n",
    "\n",
    "\n",
    "fruits_count = {'mango': 100, 'banana': 10, 'orange': 200, 'kiwi': 20,'apple':89}\n",
    "\n",
    "# indexing\n",
    "\n",
    "\n",
    "print(fruits_count['mango'])\n",
    "print(fruits_count['banana'])\n",
    "print(fruits_count['orange'])\n",
    "print(fruits_count['kiwi'])\n",
    "print(fruits_count['apple'])"
   ]
  },
  {
   "cell_type": "code",
   "execution_count": 9,
   "id": "aa703870",
   "metadata": {},
   "outputs": [
    {
     "name": "stdout",
     "output_type": "stream",
     "text": [
      "200\n",
      "30\n",
      "10\n",
      "78\n"
     ]
    }
   ],
   "source": [
    "# create a nested dictionary\n",
    "# access different items\n",
    "\n",
    "\n",
    "food_counts = {\n",
    "  'fruits': {\"mango\": 100, \"banana\": 10, \"orange\": 200, \"kiwi\": 20},\n",
    "  'drinks': {\"coke\": 20, \"redbull\": 30, \"lassi\": 10},\n",
    "    'vegetable':{'cauliflower':89, 'okra':90, 'beans':78},\n",
    "\n",
    "}\n",
    "\n",
    "print(food_counts['fruits']['orange'])\n",
    "print(food_counts['drinks']['redbull'])\n",
    "print(food_counts['drinks']['lassi'])\n",
    "print(food_counts['vegetable']['beans'])"
   ]
  },
  {
   "cell_type": "markdown",
   "id": "c0219947",
   "metadata": {},
   "source": [
    "3. Dictionaries are Mutable\n",
    "\n",
    "\n",
    "Like Lists Dictionaries are mutable.\n",
    "We can change items, add new items, remove existing items from dictionary after its creation."
   ]
  },
  {
   "cell_type": "code",
   "execution_count": 15,
   "id": "f8f4312a",
   "metadata": {},
   "outputs": [
    {
     "name": "stdout",
     "output_type": "stream",
     "text": [
      "{'good': 2, 'better': 4, 'best': 10, 'worst': 9, 'excellent': 10}\n"
     ]
    }
   ],
   "source": [
    "#Create a simple Dictionary. Verify Dictionary is mutable by changing values. Adding new values.\n",
    "\n",
    "## write your program here\n",
    "\n",
    "dicts={'good':2, 'better':4, 'best':10, 'worst':9,'excellent':9}\n",
    "dicts['excellent']=10\n",
    "print(dicts)\n",
    "\n"
   ]
  },
  {
   "cell_type": "markdown",
   "id": "fd988a63",
   "metadata": {},
   "source": [
    "4 Dictionary Methods\n",
    "\n",
    "\n",
    "\n",
    "\n",
    "Most common Dictionary methods are:\n",
    "\n",
    "\n",
    "\n",
    "get(): Returns the value of the specified key\n",
    "\n",
    "\n",
    "\n",
    "keys(): Returns a list containing the dictionary's keys\n",
    "\n",
    "\n",
    "\n",
    "values(): Returns a list of all the values in the dictionary\n",
    "\n",
    "\n",
    "\n",
    "\n",
    "items(): Returns a list containing a tuple of each key-value pairs\n",
    "\n",
    "\n",
    "\n",
    "update(): Updates the dictionary with the specified key-value pairs\n",
    "\n",
    "\n",
    "\n",
    "pop(): Removes the element with the specified key"
   ]
  },
  {
   "cell_type": "code",
   "execution_count": 23,
   "id": "48f1ee87",
   "metadata": {},
   "outputs": [
    {
     "name": "stdout",
     "output_type": "stream",
     "text": [
      "{'brush': 'sensodyne', 'table': 3, 'glass': 8, 'chair': 'woods', 'clothes': 'cotton'}\n"
     ]
    }
   ],
   "source": [
    "## initialize dictionary\n",
    "\n",
    "\n",
    "item={'brush':'sensodyne', 'table':3, 'glass':8, 'chair':'woods', 'clothes':'cotton'}\n",
    "print(item)"
   ]
  },
  {
   "cell_type": "code",
   "execution_count": 31,
   "id": "cb29c112",
   "metadata": {},
   "outputs": [
    {
     "name": "stdout",
     "output_type": "stream",
     "text": [
      "banana\n",
      "woods\n"
     ]
    }
   ],
   "source": [
    "# access value for key = \"banana\"\n",
    "# hint: dict.get(<key>)\n",
    "item={'brush':'sensodyne', 'table':3, 'glass':8, 'chair':'woods', 'clothes':'cotton', 'fruits':'banana'}\n",
    "print(item.get('fruits'))\n",
    "print(item.get('chair'))\n"
   ]
  },
  {
   "cell_type": "code",
   "execution_count": 34,
   "id": "c0ff65e5",
   "metadata": {},
   "outputs": [
    {
     "name": "stdout",
     "output_type": "stream",
     "text": [
      "['brush', 'table', 'glass', 'chair', 'clothes', 'fruits']\n"
     ]
    }
   ],
   "source": [
    "# get list of all the keys present in the dictionary\n",
    "# Hint: dict.keys()\n",
    "\n",
    "\n",
    "\n",
    "item={'brush':'sensodyne', 'table':3, 'glass':8, 'chair':'woods', 'clothes':'cotton', 'fruits':'banana'}\n",
    "print(list(item.keys()))"
   ]
  },
  {
   "cell_type": "code",
   "execution_count": 35,
   "id": "c081c268",
   "metadata": {},
   "outputs": [
    {
     "name": "stdout",
     "output_type": "stream",
     "text": [
      "['sensodyne', 3, 8, 'woods', 'cotton', 'banana']\n"
     ]
    }
   ],
   "source": [
    "# get list of all the values present in the dictionary\n",
    "# Hint: dict.values()\n",
    "\n",
    "item={'brush':'sensodyne', 'table':3, 'glass':8, 'chair':'woods', 'clothes':'cotton', 'fruits':'banana'}\n",
    "print(list(item.values()))"
   ]
  },
  {
   "cell_type": "code",
   "execution_count": 42,
   "id": "339fe2ac",
   "metadata": {},
   "outputs": [
    {
     "name": "stdout",
     "output_type": "stream",
     "text": [
      "[('brush', 'sensodyne'), ('table', 3), ('glass', 8), ('chair', 'woods'), ('clothes', 'cotton'), ('fruits', 'banana')]\n"
     ]
    }
   ],
   "source": [
    "# get list containing tuples of key-value pairs\n",
    "# Hint: dict.items()\n",
    "\n",
    "item={'brush':'sensodyne', 'table':3, 'glass':8, 'chair':'woods', 'clothes':'cotton', 'fruits':'banana'}\n",
    "new_item=item.items()\n",
    "print(list(new_item))"
   ]
  },
  {
   "cell_type": "code",
   "execution_count": 43,
   "id": "bfd5b6c6",
   "metadata": {},
   "outputs": [
    {
     "name": "stdout",
     "output_type": "stream",
     "text": [
      "{'brush': 'sensodyne', 'table': 3, 'glass': 8, 'chair': 'woods', 'clothes': 'cotton', 'fruits': 'banana', 'watermelon': 30}\n"
     ]
    }
   ],
   "source": [
    "# add new item key = 'watermelon', value = 30\n",
    "# Hint: dict.update({key:value})\n",
    "\n",
    "\n",
    "item={'brush':'sensodyne', 'table':3, 'glass':8, 'chair':'woods', 'clothes':'cotton', 'fruits':'banana'}\n",
    "item.update({'watermelon':30})\n",
    "print(item)"
   ]
  },
  {
   "cell_type": "code",
   "execution_count": 45,
   "id": "7932d4ff",
   "metadata": {},
   "outputs": [
    {
     "name": "stdout",
     "output_type": "stream",
     "text": [
      "{'table': 3, 'glass': 8, 'chair': 'woods', 'clothes': 'cotton', 'fruits': 'banana'}\n"
     ]
    }
   ],
   "source": [
    "# remove new added items.\n",
    "# Hint: dict.pop(<key>)\n",
    "item={'brush':'sensodyne', 'table':3, 'glass':8, 'chair':'woods', 'clothes':'cotton', 'fruits':'banana'}\n",
    "item.pop('brush')\n",
    "print(item)\n"
   ]
  },
  {
   "cell_type": "markdown",
   "id": "e37f5e43",
   "metadata": {},
   "source": [
    "Other Methods:\n",
    "\n",
    "\n",
    "\n",
    "Method\tDescription\n",
    "\n",
    "\n",
    "\n",
    "\n",
    "clear()\tRemoves all the elements from the dictionary\n",
    "\n",
    "\n",
    "\n",
    "\n",
    "copy()\tReturns a copy of the dictionary\n",
    "\n",
    "\n",
    "\n",
    "\n",
    "fromkeys()\tReturns a dictionary with the specified keys and value\n",
    "\n",
    "\n",
    "\n",
    "\n",
    "get()\tReturns the value of the specified key\n",
    "\n",
    "\n",
    "\n",
    "items()\tReturns a list containing a tuple for each key value pair\n",
    "\n",
    "\n",
    "\n",
    "\n",
    "\n",
    "keys()\tReturns a list containing the dictionary's keys\n",
    "\n",
    "\n",
    "\n",
    "\n",
    "pop()\tRemoves the element with the specified key\n",
    "\n",
    "\n",
    "\n",
    "\n",
    "\n",
    "\n",
    "\n",
    "popitem()\tRemoves the last inserted key-value pair\n",
    "\n",
    "\n",
    "\n",
    "\n",
    "setdefault()\tReturns the value of the specified key. If the key does not \n",
    "\n",
    "\n",
    "\n",
    "\n",
    "\n",
    "exist: insert the key, with the specified value\n",
    "\n",
    "\n",
    "\n",
    "\n",
    "update()\tUpdates the dictionary with the specified key-value pairs\n",
    "\n",
    "\n",
    "\n",
    "\n",
    "\n",
    "values()\tReturns a list of all the values in the dictionary"
   ]
  },
  {
   "cell_type": "code",
   "execution_count": 46,
   "id": "0eef764d",
   "metadata": {},
   "outputs": [
    {
     "name": "stdout",
     "output_type": "stream",
     "text": [
      "{}\n"
     ]
    }
   ],
   "source": [
    "item={'brush':'sensodyne', 'table':3, 'glass':8, 'chair':'woods', 'clothes':'cotton', 'fruits':'banana'}\n",
    "item.clear()\n",
    "print(item"
   ]
  },
  {
   "cell_type": "code",
   "execution_count": 51,
   "id": "daad1e7d",
   "metadata": {},
   "outputs": [
    {
     "name": "stdout",
     "output_type": "stream",
     "text": [
      "{'brush': 'sensodyne', 'table': 3, 'glass': 8, 'chair': 'woods', 'clothes': 'cotton', 'fruits': 'banana'}\n"
     ]
    }
   ],
   "source": [
    "item={'brush':'sensodyne', 'table':3, 'glass':8, 'chair':'woods', 'clothes':'cotton', 'fruits':'banana'}\n",
    "new_item= item.copy()\n",
    "print(new_item)"
   ]
  },
  {
   "cell_type": "code",
   "execution_count": 54,
   "id": "9a83437d",
   "metadata": {},
   "outputs": [
    {
     "name": "stdout",
     "output_type": "stream",
     "text": [
      "{'table': None}\n"
     ]
    }
   ],
   "source": [
    "item={'brush':'sensodyne', 'table':3, 'glass':8, 'chair':'woods', 'clothes':'cotton', 'fruits':'banana'}\n",
    "c=item.fromkeys(['table'])\n",
    "print(c)"
   ]
  },
  {
   "cell_type": "code",
   "execution_count": 55,
   "id": "dc60161b",
   "metadata": {},
   "outputs": [
    {
     "data": {
      "text/plain": [
       "('fruits', 'banana')"
      ]
     },
     "execution_count": 55,
     "metadata": {},
     "output_type": "execute_result"
    }
   ],
   "source": [
    "item={'brush':'sensodyne', 'table':3, 'glass':8, 'chair':'woods', 'clothes':'cotton', 'fruits':'banana'}\n",
    "item.popitem()"
   ]
  },
  {
   "cell_type": "code",
   "execution_count": 60,
   "id": "dbdea801",
   "metadata": {},
   "outputs": [
    {
     "name": "stdout",
     "output_type": "stream",
     "text": [
      "9\n"
     ]
    }
   ],
   "source": [
    "item={'brush':'sensodyne', 'table':3, 'glass':8, 'chair':'woods', 'clothes':'cotton', 'fruits':'banana'}\n",
    "c=item.setdefault('mango',9)\n",
    "print(c)"
   ]
  },
  {
   "cell_type": "markdown",
   "id": "6b8b7906",
   "metadata": {},
   "source": [
    "5. Loop Dictionary\n",
    "\n",
    "\n",
    "We can loop through a dictionary by using a for loop"
   ]
  },
  {
   "cell_type": "code",
   "execution_count": 65,
   "id": "1fb5c9ae",
   "metadata": {},
   "outputs": [
    {
     "name": "stdout",
     "output_type": "stream",
     "text": [
      "brush\n",
      "table\n",
      "glass\n",
      "chair\n",
      "clothes\n",
      "fruits\n"
     ]
    }
   ],
   "source": [
    "# Print all key names in the dictionary, one by one.\n",
    "\n",
    "item={'brush':'sensodyne', 'table':3, 'glass':8, 'chair':'woods', 'clothes':'cotton', 'fruits':'banana'}\n",
    "for i in item:\n",
    " print(i)\n"
   ]
  },
  {
   "cell_type": "code",
   "execution_count": 81,
   "id": "4063c355",
   "metadata": {},
   "outputs": [
    {
     "name": "stdout",
     "output_type": "stream",
     "text": [
      "sensodyne\n",
      "3\n",
      "8\n",
      "woods\n",
      "cotton\n",
      "banana\n"
     ]
    }
   ],
   "source": [
    "# Print all values in the dictionary one by one.\n",
    "item={'brush':'sensodyne', 'table':3, 'glass':8, 'chair':'woods', 'clothes':'cotton', 'fruits':'banana'}\n",
    "c=list(item.values())\n",
    "for i in c:\n",
    "    print(i)"
   ]
  },
  {
   "cell_type": "code",
   "execution_count": 83,
   "id": "cf403986",
   "metadata": {},
   "outputs": [
    {
     "name": "stdout",
     "output_type": "stream",
     "text": [
      "('brush', 'sensodyne')\n",
      "('table', 3)\n",
      "('glass', 8)\n",
      "('chair', 'woods')\n",
      "('clothes', 'cotton')\n",
      "('fruits', 'banana')\n"
     ]
    }
   ],
   "source": [
    "# Print all keys and values one by one, using items() method.\n",
    "\n",
    "\n",
    "item={'brush':'sensodyne', 'table':3, 'glass':8, 'chair':'woods', 'clothes':'cotton', 'fruits':'banana'}\n",
    "c=list(item.items())\n",
    "for i in c:\n",
    "    print(i)"
   ]
  },
  {
   "cell_type": "markdown",
   "id": "def79b41",
   "metadata": {},
   "source": [
    "5. Dictionary comprehension\n",
    "\n",
    "\n",
    "Dictionary comprehension offers shortest syntax for looping."
   ]
  },
  {
   "cell_type": "code",
   "execution_count": 84,
   "id": "0f449423",
   "metadata": {},
   "outputs": [
    {
     "name": "stdout",
     "output_type": "stream",
     "text": [
      "{'What is the capital of France?': 'Paris', \"Who wrote the play 'Romeo and Juliet'?\": 'William Shakespeare', 'What is the symbol for the chemical element oxygen?': 'O', 'In which year did World War II end?': '1945', 'What is the tallest mammal on Earth?': 'Giraffe'}\n"
     ]
    }
   ],
   "source": [
    "# write your program here\n",
    "\n",
    "# Sample list of questions\n",
    "questions = [\n",
    "    \"What is the capital of France?\",\n",
    "    \"Who wrote the play 'Romeo and Juliet'?\",\n",
    "    \"What is the symbol for the chemical element oxygen?\",\n",
    "    \"In which year did World War II end?\",\n",
    "    \"What is the tallest mammal on Earth?\",\n",
    "]\n",
    "\n",
    "# Sample list of corresponding answers\n",
    "answers = [\n",
    "    \"Paris\",\n",
    "    \"William Shakespeare\",\n",
    "    \"O\",\n",
    "    \"1945\",\n",
    "    \"Giraffe\",\n",
    "]\n",
    "\n",
    "# Using dictionary comprehension to create a dictionary of questions and answers\n",
    "question_answer_dict = {question: answer for question, answer in zip(questions, answers)}\n",
    "\n",
    "# Printing the resulting dictionary\n",
    "print(question_answer_dict)"
   ]
  },
  {
   "cell_type": "code",
   "execution_count": null,
   "id": "b98bc6b3",
   "metadata": {},
   "outputs": [],
   "source": []
  }
 ],
 "metadata": {
  "kernelspec": {
   "display_name": "Python 3 (ipykernel)",
   "language": "python",
   "name": "python3"
  },
  "language_info": {
   "codemirror_mode": {
    "name": "ipython",
    "version": 3
   },
   "file_extension": ".py",
   "mimetype": "text/x-python",
   "name": "python",
   "nbconvert_exporter": "python",
   "pygments_lexer": "ipython3",
   "version": "3.10.9"
  }
 },
 "nbformat": 4,
 "nbformat_minor": 5
}
