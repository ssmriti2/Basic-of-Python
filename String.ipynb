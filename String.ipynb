{
 "cells": [
  {
   "cell_type": "markdown",
   "id": "c31b8b14",
   "metadata": {},
   "source": [
    "1.Creating Strings"
   ]
  },
  {
   "cell_type": "code",
   "execution_count": 17,
   "id": "bd2cd832",
   "metadata": {},
   "outputs": [
    {
     "name": "stdout",
     "output_type": "stream",
     "text": [
      "String with single quatation.\n",
      "String with double quatation.\n"
     ]
    }
   ],
   "source": [
    "# create string using single and double quotation\n",
    "string_single_quotation='String with single quatation.'\n",
    "string_double_quotation=\"String with double quatation.\"\n",
    "print(string_single_quotation)\n",
    "print(string_double_quotation)"
   ]
  },
  {
   "cell_type": "code",
   "execution_count": 7,
   "id": "e9217f1c",
   "metadata": {},
   "outputs": [
    {
     "name": "stdout",
     "output_type": "stream",
     "text": [
      "the string is same\n"
     ]
    }
   ],
   "source": [
    "## use assert keyword \n",
    "string_single_quotation='String with single quatation.'\n",
    "string_double_quotation=\"String with double quatation.\"\n",
    "\n",
    "assert string_single_quotation!=string_double_quotation\n",
    "print(\"the string is same\")"
   ]
  },
  {
   "cell_type": "code",
   "execution_count": 10,
   "id": "b6c7c2fb",
   "metadata": {},
   "outputs": [
    {
     "name": "stdout",
     "output_type": "stream",
     "text": [
      "I am learning Python programmimg Languages.\n",
      "Coding is fun.\n",
      "we are enjoying it\n"
     ]
    }
   ],
   "source": [
    "# create multi line string using Three Double Quotation\n",
    "string=\"\"\"learning Python programmimg Languages.\n",
    "Coding is fun.\n",
    "we are enjoying it\"\"\"\n",
    "print(\"I am\", string)"
   ]
  },
  {
   "cell_type": "code",
   "execution_count": 11,
   "id": "b9147dea",
   "metadata": {},
   "outputs": [
    {
     "name": "stdout",
     "output_type": "stream",
     "text": [
      "I am learning Python programmimg Languages.\n",
      "Coding is fun.\n",
      "we are enjoying it.\n"
     ]
    }
   ],
   "source": [
    "# create multi line string using Three Single Quotation\n",
    "string='''learning Python programmimg Languages.\n",
    "Coding is fun.\n",
    "we are enjoying it.'''\n",
    "print(\"I am\", string)"
   ]
  },
  {
   "cell_type": "code",
   "execution_count": 16,
   "id": "cd20ee99",
   "metadata": {},
   "outputs": [
    {
     "name": "stdout",
     "output_type": "stream",
     "text": [
      "**Hi I'm Learning string creation.**\n"
     ]
    }
   ],
   "source": [
    "# Create a string named string_phrase and assign value **Hi I'm learning string creation.**\n",
    "\n",
    "string_phrase=\"**Hi I'm Learning string creation.**\"\n",
    "print(string_phrase)"
   ]
  },
  {
   "cell_type": "markdown",
   "id": "dc7f2967",
   "metadata": {},
   "source": [
    "2.Concatenate Strings"
   ]
  },
  {
   "cell_type": "code",
   "execution_count": 26,
   "id": "12f49403",
   "metadata": {},
   "outputs": [
    {
     "name": "stdout",
     "output_type": "stream",
     "text": [
      "stringconcat\n",
      "string concat\n"
     ]
    }
   ],
   "source": [
    " #Concatenate two string named a and b adding space in between.\n",
    "a='string'\n",
    "b='concat'\n",
    "print(a+b)\n",
    "print(a+\" \"+b)"
   ]
  },
  {
   "cell_type": "markdown",
   "id": "e1a9dbbb",
   "metadata": {},
   "source": [
    "3.Indexing Strings\n"
   ]
  },
  {
   "cell_type": "markdown",
   "id": "39835f4f",
   "metadata": {},
   "source": [
    "3.1 Positive Indexing"
   ]
  },
  {
   "cell_type": "code",
   "execution_count": 29,
   "id": "ae937b0f",
   "metadata": {},
   "outputs": [
    {
     "name": "stdout",
     "output_type": "stream",
     "text": [
      "String Indexing\n"
     ]
    }
   ],
   "source": [
    "indexing_str = \"String Indexing\"\n",
    "print(indexing_str)"
   ]
  },
  {
   "cell_type": "code",
   "execution_count": 31,
   "id": "b36c5a0f",
   "metadata": {},
   "outputs": [
    {
     "name": "stdout",
     "output_type": "stream",
     "text": [
      "S\n"
     ]
    }
   ],
   "source": [
    "# print first element (S) in the string\n",
    "indexing_str = \"String Indexing\"\n",
    "print(indexing_str[0])"
   ]
  },
  {
   "cell_type": "code",
   "execution_count": 32,
   "id": "fe80a288",
   "metadata": {},
   "outputs": [
    {
     "name": "stdout",
     "output_type": "stream",
     "text": [
      "r\n"
     ]
    }
   ],
   "source": [
    "# print third element (r) in the string\n",
    "indexing_str = \"String Indexing\"\n",
    "print(indexing_str[2])\n"
   ]
  },
  {
   "cell_type": "code",
   "execution_count": 1,
   "id": "027ab537",
   "metadata": {},
   "outputs": [
    {
     "name": "stdout",
     "output_type": "stream",
     "text": [
      "g\n"
     ]
    }
   ],
   "source": [
    "# print 6th element (g) in the string\n",
    "indexing_str = \"String Indexing\"\n",
    "print(indexing_str[5])\n"
   ]
  },
  {
   "cell_type": "code",
   "execution_count": 2,
   "id": "b7715fb8",
   "metadata": {},
   "outputs": [
    {
     "name": "stdout",
     "output_type": "stream",
     "text": [
      "n\n"
     ]
    }
   ],
   "source": [
    "# print last element (n) in the string\n",
    "indexing_str = \"String Indexing\"\n",
    "print(indexing_str[8])"
   ]
  },
  {
   "cell_type": "markdown",
   "id": "204dd3de",
   "metadata": {},
   "source": [
    "3.2 Negative Indexing"
   ]
  },
  {
   "cell_type": "code",
   "execution_count": 3,
   "id": "8ff80dd1",
   "metadata": {},
   "outputs": [
    {
     "name": "stdout",
     "output_type": "stream",
     "text": [
      "S\n"
     ]
    }
   ],
   "source": [
    "# print first item (S) using negative indexing\n",
    "indexing_str = \"String Indexing\"\n",
    "print(indexing_str[-15])"
   ]
  },
  {
   "cell_type": "code",
   "execution_count": 5,
   "id": "2c3652fe",
   "metadata": {},
   "outputs": [
    {
     "name": "stdout",
     "output_type": "stream",
     "text": [
      "n\n"
     ]
    }
   ],
   "source": [
    "# print last item (n) using negative indexing\n",
    "indexing_str = \"String Indexing\"\n",
    "print(indexing_str[-11])"
   ]
  },
  {
   "cell_type": "code",
   "execution_count": 6,
   "id": "9a4ed246",
   "metadata": {},
   "outputs": [
    {
     "name": "stdout",
     "output_type": "stream",
     "text": [
      "g\n"
     ]
    }
   ],
   "source": [
    "# print 6th item (g) using negative indexing\n",
    "indexing_str = \"String Indexing\"\n",
    "print(indexing_str[-10])"
   ]
  },
  {
   "cell_type": "markdown",
   "id": "d918b8ea",
   "metadata": {},
   "source": [
    "4. Slicing Strings"
   ]
  },
  {
   "cell_type": "markdown",
   "id": "38ccfd34",
   "metadata": {},
   "source": [
    "Case1: when step is positive"
   ]
  },
  {
   "cell_type": "code",
   "execution_count": 8,
   "id": "e0953190",
   "metadata": {},
   "outputs": [
    {
     "name": "stdout",
     "output_type": "stream",
     "text": [
      "Str\n"
     ]
    }
   ],
   "source": [
    "# slice first 3 characters using positive index\n",
    "indexing_str = \"String Indexing\"\n",
    "print(indexing_str[0:3])"
   ]
  },
  {
   "cell_type": "code",
   "execution_count": 9,
   "id": "63582552",
   "metadata": {},
   "outputs": [
    {
     "name": "stdout",
     "output_type": "stream",
     "text": [
      "Str\n"
     ]
    }
   ],
   "source": [
    "# slice first 3 characters using negative index\n",
    "indexing_str = \"String Indexing\"\n",
    "print(indexing_str[-15:-12])"
   ]
  },
  {
   "cell_type": "code",
   "execution_count": 10,
   "id": "103ef022",
   "metadata": {},
   "outputs": [
    {
     "name": "stdout",
     "output_type": "stream",
     "text": [
      "Srn nei\n"
     ]
    }
   ],
   "source": [
    "# get characters at even indexing\n",
    "# desired output: \"srn nei\"\n",
    "# Hint: use step = 2\n",
    "indexing_str = \"String Indexing\"\n",
    "print(indexing_str[0:13:2])"
   ]
  },
  {
   "cell_type": "code",
   "execution_count": 14,
   "id": "104bff20",
   "metadata": {},
   "outputs": [
    {
     "name": "stdout",
     "output_type": "stream",
     "text": [
      "gnixednI gnirtS\n"
     ]
    }
   ],
   "source": [
    "# reverse string\n",
    "# output: \"nixednI gnirtS\"\n",
    "indexing_str = \"String Indexing\"\n",
    "print(indexing_str[::-1])"
   ]
  },
  {
   "cell_type": "markdown",
   "id": "e196b85d",
   "metadata": {},
   "source": [
    "5. Strings are immutable\n",
    "\n",
    "Strings have important property known as immutability.\n",
    "This means, once string is created, the elements within it cannot be changed or replaced."
   ]
  },
  {
   "cell_type": "code",
   "execution_count": 15,
   "id": "9b28d65a",
   "metadata": {},
   "outputs": [
    {
     "name": "stdout",
     "output_type": "stream",
     "text": [
      "string indexin\n"
     ]
    }
   ],
   "source": [
    "test_str = \"String Indexin\"\n",
    "\n",
    "# try to replace character \"S\" with \"s\"\n",
    "print(test_str.lower())"
   ]
  },
  {
   "cell_type": "markdown",
   "id": "26ff1196",
   "metadata": {},
   "source": [
    "# 6. String Methods\n",
    "most common string methods are:\n",
    "\n",
    "1. upper() --> Upper Case a string\n",
    "2. lower() --> Lower Case a string\n",
    "3. split() --> Split a string at specified separator\n",
    "4. strip() --> Return trimmed version of the string\n",
    "5. replace() --> Returns a string where a specified value is replaced with a specified value\n",
    "6. endswith() --> Returns True if the string ends with specified value\n",
    "7. isdigit() --> Returns True if all characters in the string are digits"
   ]
  },
  {
   "cell_type": "code",
   "execution_count": 16,
   "id": "8fb7df9f",
   "metadata": {},
   "outputs": [
    {
     "name": "stdout",
     "output_type": "stream",
     "text": [
      "   I am practicing String MEthod!!\n"
     ]
    }
   ],
   "source": [
    "# initialize sample string\n",
    "str_method = \"   I am practicing String MEthod!!\"\n",
    "print(str_method)"
   ]
  },
  {
   "cell_type": "code",
   "execution_count": 17,
   "id": "ee8a99d3",
   "metadata": {},
   "outputs": [
    {
     "name": "stdout",
     "output_type": "stream",
     "text": [
      "   I AM PRACTICING STRING METHOD!!\n"
     ]
    }
   ],
   "source": [
    "# convert string to upper case\n",
    "# Hint: .upper()\n",
    "str_method = \"   I am practicing String MEthod!!\"\n",
    "print(str_method.upper())"
   ]
  },
  {
   "cell_type": "code",
   "execution_count": 18,
   "id": "059cbf4d",
   "metadata": {},
   "outputs": [
    {
     "name": "stdout",
     "output_type": "stream",
     "text": [
      "   i am practicing string method!!\n"
     ]
    }
   ],
   "source": [
    "# convert string to lower case\n",
    "# Hint: .lower()\n",
    "str_method = \"   I am practicing String MEthod!!\"\n",
    "print(str_method.lower())"
   ]
  },
  {
   "cell_type": "code",
   "execution_count": 19,
   "id": "053f919b",
   "metadata": {},
   "outputs": [
    {
     "name": "stdout",
     "output_type": "stream",
     "text": [
      "['I', 'am', 'practicing', 'String', 'MEthod!!']\n"
     ]
    }
   ],
   "source": [
    "# split string based on white space\n",
    "# Hint: .split()\n",
    "str_method = \"   I am practicing String MEthod!!\"\n",
    "print(str_method.split())"
   ]
  },
  {
   "cell_type": "code",
   "execution_count": 21,
   "id": "a5339d16",
   "metadata": {},
   "outputs": [
    {
     "name": "stdout",
     "output_type": "stream",
     "text": [
      "   I have practiced String MEthod!!\n"
     ]
    }
   ],
   "source": [
    "# Replace \"am parcticing\" with \"have practiced\"\n",
    "# Hint: .string(to_replace_str, desired_str)\n",
    "str_method = \"   I am practicing String MEthod!!\"\n",
    "print(str_method.replace(\"am practicing\", 'have practiced'))\n"
   ]
  },
  {
   "cell_type": "code",
   "execution_count": 23,
   "id": "64ace5d4",
   "metadata": {},
   "outputs": [
    {
     "name": "stdout",
     "output_type": "stream",
     "text": [
      "True\n"
     ]
    }
   ],
   "source": [
    "# Test if string end with \"!!\"\n",
    "# Hint: .endswith(\"!!\")\n",
    "str_method = \"   I am practicing String MEthod!!\"\n",
    "print(str_method.endswith('!'))"
   ]
  },
  {
   "cell_type": "code",
   "execution_count": 30,
   "id": "5fc7743a",
   "metadata": {},
   "outputs": [
    {
     "name": "stdout",
     "output_type": "stream",
     "text": [
      "True\n"
     ]
    }
   ],
   "source": [
    "# Test if all characters in the string are digits\n",
    "# Hint: .isdigit()\n",
    "str_method='I am practicing  String MEthod!!'\n",
    "print(str_method.isdigit())"
   ]
  },
  {
   "cell_type": "code",
   "execution_count": 31,
   "id": "5aaa464a",
   "metadata": {},
   "outputs": [
    {
     "name": "stdout",
     "output_type": "stream",
     "text": [
      "I am practicing  String MEthod!!\n"
     ]
    }
   ],
   "source": [
    "# remove starting white space\n",
    "# Hint: .strip()\n",
    "str_method='I am practicing  String MEthod!!'\n",
    "print(str_method.strip())"
   ]
  },
  {
   "cell_type": "markdown",
   "id": "c1532a82",
   "metadata": {},
   "source": [
    " 7. String Formatting"
   ]
  },
  {
   "cell_type": "code",
   "execution_count": 44,
   "id": "c219f98b",
   "metadata": {},
   "outputs": [
    {
     "name": "stdout",
     "output_type": "stream",
     "text": [
      "hello  anisha your age is 22\n"
     ]
    }
   ],
   "source": [
    "# get input from user\n",
    "\n",
    "user_name = 'anisha '\n",
    "user_age = 22\n",
    "print(\"hello \" +' ' +user_name + \"your age is \"+ str(user_age))\n"
   ]
  },
  {
   "cell_type": "markdown",
   "id": "cde6746b",
   "metadata": {},
   "source": [
    "format():\n",
    "\n",
    "\n",
    "we can combine string and number using format() method.\n",
    "\n",
    "\n",
    "\n",
    "\n",
    "\n",
    "Example 1: \n",
    "\n",
    "\n",
    "\n",
    "  Given, age = 20\n",
    "  to_display: Your age is 20\n",
    "\n",
    "  code: \n",
    "    Approach1: \"Your age is {}\".format(age), or   \n",
    "    Approach2: \"Your age is {0}\".format(age)"
   ]
  },
  {
   "cell_type": "code",
   "execution_count": 48,
   "id": "d7351a03",
   "metadata": {},
   "outputs": [
    {
     "name": "stdout",
     "output_type": "stream",
     "text": [
      "your age is 20\n"
     ]
    }
   ],
   "source": [
    "# Display message using format() method\n",
    "# use Approach 1\n",
    "age=20\n",
    "print(\"your age is {}\".format(age))"
   ]
  },
  {
   "cell_type": "code",
   "execution_count": 51,
   "id": "ab431d65",
   "metadata": {},
   "outputs": [
    {
     "name": "stdout",
     "output_type": "stream",
     "text": [
      "your age is 20\n"
     ]
    }
   ],
   "source": [
    "# Display message using format() method\n",
    "# use Approach 2\n",
    "age=20\n",
    "print(\"your age is {0}\".format(age))"
   ]
  },
  {
   "cell_type": "markdown",
   "id": "43ec3f42",
   "metadata": {},
   "source": [
    "Formatted String or f-Strings\n",
    "\n",
    "\n",
    "\n",
    "A formatted String is a String that is prefixed with f or F."
   ]
  },
  {
   "cell_type": "code",
   "execution_count": 57,
   "id": "021a9519",
   "metadata": {},
   "outputs": [
    {
     "name": "stdout",
     "output_type": "stream",
     "text": [
      "hi sarada your age is 20\n"
     ]
    }
   ],
   "source": [
    "# Display message using f-string \n",
    "\n",
    "# to_dispay: input user name and age, and \n",
    "# print \"Hi <user_name>. Your age is <user_age>\"\n",
    "\n",
    "\n",
    "age=20\n",
    "name='sarada'\n",
    "print(F'hi {name} your age is {age}')"
   ]
  },
  {
   "cell_type": "markdown",
   "id": "d4fc8524",
   "metadata": {},
   "source": [
    "8. Escape Characters:\n",
    "\n",
    "\n",
    "Different Escape Characters are:\n",
    "\n",
    "\n",
    "Single Quote: \\'\n",
    "\n",
    "\n",
    "Double Quote: \\\"\n",
    "\n",
    "\n",
    "Backslash: \\\n",
    "\n",
    "\n",
    "New Line: \\n\n",
    "\n",
    "\n",
    "\n",
    "Tab: \\t"
   ]
  },
  {
   "cell_type": "markdown",
   "id": "2d84141d",
   "metadata": {},
   "source": [
    "# How to insert single quotation character in a string created using single quotation?"
   ]
  },
  {
   "cell_type": "code",
   "execution_count": 61,
   "id": "22030268",
   "metadata": {},
   "outputs": [
    {
     "name": "stdout",
     "output_type": "stream",
     "text": [
      "I'm learning python\n",
      "coding is \"fun\"\n"
     ]
    }
   ],
   "source": [
    "# write your program here\n",
    "print('I\\'m learning python')\n",
    "print(\"coding is \\\"fun\\\"\")"
   ]
  },
  {
   "cell_type": "code",
   "execution_count": 70,
   "id": "2abdf479",
   "metadata": {},
   "outputs": [
    {
     "name": "stdout",
     "output_type": "stream",
     "text": [
      "Aayushma is from 'chitwan'\n"
     ]
    }
   ],
   "source": [
    "# Experiment with Backslash Escape character\n",
    "print(\"Aayushma is from \\'chitwan\\'\")"
   ]
  },
  {
   "cell_type": "code",
   "execution_count": 67,
   "id": "b5238680",
   "metadata": {},
   "outputs": [
    {
     "name": "stdout",
     "output_type": "stream",
     "text": [
      "She is anishaprint.\n",
      " She is from Dhading.\n",
      " She is darniba.\n"
     ]
    }
   ],
   "source": [
    "# Experiment with newline escape character\n",
    "print(\"She is anishaprint.\\n She is from Dhading.\\n She is darniba.\")"
   ]
  },
  {
   "cell_type": "code",
   "execution_count": 69,
   "id": "415a5be3",
   "metadata": {},
   "outputs": [
    {
     "name": "stdout",
     "output_type": "stream",
     "text": [
      "An escape character is a \tbackslash.\n"
     ]
    }
   ],
   "source": [
    "# experiment with tab escape character\n",
    "print('An escape character is a \\tbackslash.')\n"
   ]
  },
  {
   "cell_type": "markdown",
   "id": "3902e021",
   "metadata": {},
   "source": [
    "9. String Loop\n",
    "\n",
    "\n",
    "It is possible to loop through characters present in the string.\n",
    "\n",
    "\n",
    "Loop:\n",
    "    \n",
    "    \n",
    "\n",
    "Loop is used for iterating over a sequence.\n",
    "\n",
    "\n",
    "string is sequence of characters we can loop through string.\n",
    "\n",
    "\n",
    "\n",
    "Python provides for keyword for loop (also called for loop)."
   ]
  },
  {
   "cell_type": "markdown",
   "id": "de8119dc",
   "metadata": {},
   "source": [
    "i). find length of string:"
   ]
  },
  {
   "cell_type": "code",
   "execution_count": 72,
   "id": "5d98e3b5",
   "metadata": {},
   "outputs": [
    {
     "name": "stdout",
     "output_type": "stream",
     "text": [
      "6\n"
     ]
    }
   ],
   "source": [
    "# define string\n",
    "# find string length\n",
    "# Hint: len(str)\n",
    "colour=\"purple\"\n",
    "print(len(colour))"
   ]
  },
  {
   "cell_type": "markdown",
   "id": "38f6281c",
   "metadata": {},
   "source": [
    "ii). Loop through a String"
   ]
  },
  {
   "cell_type": "code",
   "execution_count": 77,
   "id": "f323980a",
   "metadata": {},
   "outputs": [
    {
     "name": "stdout",
     "output_type": "stream",
     "text": [
      "purple\n",
      "purple\n",
      "purple\n",
      "purple\n",
      "purple\n",
      "purple\n"
     ]
    }
   ],
   "source": [
    "# define string \n",
    "# loop through string\n",
    "colour=\"purple\"\n",
    "for i in colour:\n",
    " print(colour)"
   ]
  },
  {
   "cell_type": "code",
   "execution_count": 78,
   "id": "96bdfdd9",
   "metadata": {},
   "outputs": [
    {
     "name": "stdout",
     "output_type": "stream",
     "text": [
      "p\n",
      "u\n",
      "r\n",
      "p\n",
      "l\n",
      "e\n"
     ]
    }
   ],
   "source": [
    "# define string \n",
    "# loop through string\n",
    "colour=\"purple\"\n",
    "for i in colour:\n",
    " print(i)"
   ]
  },
  {
   "cell_type": "markdown",
   "id": "dfd22b22",
   "metadata": {},
   "source": [
    "10. String Exercise\n",
    "\n",
    "\n"
   ]
  },
  {
   "cell_type": "code",
   "execution_count": 79,
   "id": "bf93404b",
   "metadata": {},
   "outputs": [
    {
     "name": "stdout",
     "output_type": "stream",
     "text": [
      "11\n"
     ]
    }
   ],
   "source": [
    "#Use the len method to print the length of string.\n",
    "\n",
    "college=\"engineering\"\n",
    "print(len(college))"
   ]
  },
  {
   "cell_type": "code",
   "execution_count": 87,
   "id": "4ac0cefa",
   "metadata": {},
   "outputs": [
    {
     "name": "stdout",
     "output_type": "stream",
     "text": [
      "7\n"
     ]
    }
   ],
   "source": [
    "#Print length of String without using len function.\n",
    "place=\"pokhara\"\n",
    "count=0\n",
    "for i in place:\n",
    "    count+=1\n",
    "print(count)"
   ]
  },
  {
   "cell_type": "code",
   "execution_count": 108,
   "id": "f6e311bf",
   "metadata": {},
   "outputs": [
    {
     "name": "stdout",
     "output_type": "stream",
     "text": [
      "the vowel letters are ['a', 'a', 'u']\n",
      "the vowel letters are ['k', 't', 'h', 'm', 'n', 'd']\n"
     ]
    }
   ],
   "source": [
    "# Write python program to print vowel and consonants on the given string.\n",
    "place=\"kathmandu\"\n",
    "vowel='aeiouAEIOU'\n",
    "vowel_letters=[]\n",
    "consonent_letters=[]\n",
    "for i in place:\n",
    "    if i in vowel:\n",
    "        vowel_letters.append(i)\n",
    "    elif i.isalpha(): \n",
    "        consonent_letters.append(i)\n",
    "print(f'the vowel letters are {vowel_letters}')\n",
    "print(f'the vowel letters are {consonent_letters}')"
   ]
  },
  {
   "cell_type": "code",
   "execution_count": 89,
   "id": "2a3f780c",
   "metadata": {},
   "outputs": [
    {
     "name": "stdout",
     "output_type": "stream",
     "text": [
      "Enter a string: kathmandu\n",
      "Vowels: a, a, u\n",
      "Consonants: k, t, h, m, n, d\n"
     ]
    }
   ],
   "source": [
    "def print_vowels_and_consonants(input_string):\n",
    "    vowels = \"aeiouAEIOU\"\n",
    "    input_string = input_string.lower()\n",
    "\n",
    "    vowel_list = []\n",
    "    consonant_list = []\n",
    "\n",
    "    for char in input_string:\n",
    "        if char.isalpha():\n",
    "            if char in vowels:\n",
    "                vowel_list.append(char)\n",
    "            else:\n",
    "                consonant_list.append(char)\n",
    "\n",
    "    print(\"Vowels:\", \", \".join(vowel_list))\n",
    "    print(\"Consonants:\", \", \".join(consonant_list))\n",
    "\n",
    "# Example usage:\n",
    "user_input = input(\"Enter a string: \")\n",
    "print_vowels_and_consonants(user_input)\n"
   ]
  },
  {
   "cell_type": "code",
   "execution_count": 111,
   "id": "75981204",
   "metadata": {},
   "outputs": [
    {
     "name": "stdout",
     "output_type": "stream",
     "text": [
      "myxyz\n"
     ]
    }
   ],
   "source": [
    "# Write a python program to extract first and last 2 character into new string.\n",
    "\n",
    "#example:\n",
    "input_string = \"my name is xyz\"\n",
    "#output_string = \"myyz\"\n",
    "\n",
    "a=input_string.split()\n",
    "print(a[0]+a[3])\n",
    "\n"
   ]
  },
  {
   "cell_type": "code",
   "execution_count": 119,
   "id": "d8c3c408",
   "metadata": {},
   "outputs": [
    {
     "name": "stdout",
     "output_type": "stream",
     "text": [
      "myyz\n"
     ]
    }
   ],
   "source": [
    "# Write a python program to extract first and last 2 character into new string.\n",
    "\n",
    "#example:\n",
    "input_string = \"my name is xyz\"\n",
    "#output_string = \"myyz\"\n",
    "first=input_string[0:2]\n",
    "second=input_string[-2:]\n",
    "print(first + second)\n"
   ]
  },
  {
   "cell_type": "code",
   "execution_count": 126,
   "id": "7eddc22d",
   "metadata": {},
   "outputs": [
    {
     "name": "stdout",
     "output_type": "stream",
     "text": [
      "serst     ficond\n"
     ]
    }
   ],
   "source": [
    "#Write a python program to get a single string from two given strings, separated by a space and swap the first two characters of each string.\n",
    "\n",
    "#example:\n",
    "first_string = \"first\"\n",
    "second_string = \"second\"\n",
    "#output_string = \"serst ficond\"\n",
    "a=first_string.replace('fi','se')\n",
    "b= second_string.replace('se',  ' fi')\n",
    "print(a + b)"
   ]
  },
  {
   "cell_type": "code",
   "execution_count": 134,
   "id": "37edcc27",
   "metadata": {},
   "outputs": [
    {
     "name": "stdout",
     "output_type": "stream",
     "text": [
      "serst ficond\n"
     ]
    }
   ],
   "source": [
    "#Write a python program to get a single string from two given strings, separated by a space and swap the first two characters of each string.\n",
    "\n",
    "#example:\n",
    "first_string = \"first\"\n",
    "second_string = \"second\"\n",
    "#output_string = \"serst ficond\"\n",
    "first=second_string[:2]+first_string[2:]\n",
    "second=first_string[:2]+second_string[2:]\n",
    "swapped=first+ \" \" +second\n",
    "print(swapped)"
   ]
  },
  {
   "cell_type": "code",
   "execution_count": 142,
   "id": "3bc5df0b",
   "metadata": {},
   "outputs": [
    {
     "name": "stdout",
     "output_type": "stream",
     "text": [
      "enter the stringcharacter\n",
      "chaacter\n"
     ]
    }
   ],
   "source": [
    "#Write a python program to remove the nth index character from a nonempty string. Ask user to input non-empty string, and index\n",
    "\n",
    "#example:\n",
    "\n",
    "string=input(\"enter the string\")\n",
    "index_to_remove=3\n",
    "output=string[:3]+string[4:]\n",
    "print(output)"
   ]
  },
  {
   "cell_type": "code",
   "execution_count": null,
   "id": "05593153",
   "metadata": {},
   "outputs": [],
   "source": []
  }
 ],
 "metadata": {
  "kernelspec": {
   "display_name": "Python 3 (ipykernel)",
   "language": "python",
   "name": "python3"
  },
  "language_info": {
   "codemirror_mode": {
    "name": "ipython",
    "version": 3
   },
   "file_extension": ".py",
   "mimetype": "text/x-python",
   "name": "python",
   "nbconvert_exporter": "python",
   "pygments_lexer": "ipython3",
   "version": "3.10.9"
  }
 },
 "nbformat": 4,
 "nbformat_minor": 5
}
