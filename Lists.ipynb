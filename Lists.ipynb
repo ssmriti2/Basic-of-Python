{
 "cells": [
  {
   "cell_type": "markdown",
   "id": "a90abb08",
   "metadata": {},
   "source": [
    "1. Creating Lists\n"
   ]
  },
  {
   "cell_type": "code",
   "execution_count": 2,
   "id": "5f090c11",
   "metadata": {},
   "outputs": [
    {
     "name": "stdout",
     "output_type": "stream",
     "text": [
      "['Pokhara', 40.0, 12, True]\n"
     ]
    }
   ],
   "source": [
    "# create simple list with mixed data types\n",
    "list=['Pokhara',40.0, 12, True]\n",
    "print(list)"
   ]
  },
  {
   "cell_type": "code",
   "execution_count": 10,
   "id": "9704babd",
   "metadata": {},
   "outputs": [
    {
     "name": "stdout",
     "output_type": "stream",
     "text": [
      "<class 'list'>\n"
     ]
    }
   ],
   "source": [
    "\n",
    "# display type \n",
    "list=['Kathmandu',40.0, 12, False]\n",
    "print(type(list))\n"
   ]
  },
  {
   "cell_type": "code",
   "execution_count": 6,
   "id": "e0aaf1a3",
   "metadata": {},
   "outputs": [
    {
     "name": "stdout",
     "output_type": "stream",
     "text": [
      "6\n"
     ]
    }
   ],
   "source": [
    "\n",
    "# display length of list\n",
    "# Hint: len(list)\n",
    "list=['Kathmandu',40.0, 12,56, \"Kritika\", False]\n",
    "print(len(list))"
   ]
  },
  {
   "cell_type": "code",
   "execution_count": 8,
   "id": "e4be7e0f",
   "metadata": {},
   "outputs": [
    {
     "name": "stdout",
     "output_type": "stream",
     "text": [
      "['Kathmandu', 40.0, 12, 56, 'friends', ['anisha', 'aayushma', 'kritika'], False]\n"
     ]
    }
   ],
   "source": [
    "# create nested list\n",
    "list=['Kathmandu',40.0, 12,56, \"friends\",[\"anisha\", \"aayushma\",\"kritika\"] ,False]\n",
    "print(list)"
   ]
  },
  {
   "cell_type": "code",
   "execution_count": 11,
   "id": "fe8bfd4c",
   "metadata": {},
   "outputs": [
    {
     "name": "stdout",
     "output_type": "stream",
     "text": [
      "<class 'list'>\n"
     ]
    }
   ],
   "source": [
    "# display type of nested list\n",
    "\n",
    "print(type(list[5]))list=['Kathmandu',40.0, 12,56, \"friends\",[\"anisha\", \"aayushma\",\"kritika\"] ,False]"
   ]
  },
  {
   "cell_type": "code",
   "execution_count": 12,
   "id": "bda5b3ff",
   "metadata": {},
   "outputs": [
    {
     "name": "stdout",
     "output_type": "stream",
     "text": [
      "3\n"
     ]
    }
   ],
   "source": [
    "# display length of nested list\n",
    "# Hint: len() \n",
    "list=['Kathmandu',40.0, 12,56, \"friends\",[\"anisha\", \"aayushma\",\"kritika\"] ,False]\n",
    "print(len(list[5]))"
   ]
  },
  {
   "cell_type": "markdown",
   "id": "7065f9c3",
   "metadata": {},
   "source": [
    "List creation from Strings\n",
    "\n",
    "use .split() method"
   ]
  },
  {
   "cell_type": "code",
   "execution_count": 14,
   "id": "feb3aff2",
   "metadata": {},
   "outputs": [
    {
     "name": "stdout",
     "output_type": "stream",
     "text": [
      "['chitwan', 'pokhara']\n"
     ]
    }
   ],
   "source": [
    "# Initialize any non-empty string\n",
    "# split string to create list\n",
    "\n",
    "string='chitwan pokhara'\n",
    "print(string.split())"
   ]
  },
  {
   "cell_type": "markdown",
   "id": "3dd8ffe1",
   "metadata": {},
   "source": [
    "2. Indexing Lists"
   ]
  },
  {
   "cell_type": "code",
   "execution_count": 19,
   "id": "0494b2f9",
   "metadata": {},
   "outputs": [
    {
     "name": "stdout",
     "output_type": "stream",
     "text": [
      "5\n"
     ]
    }
   ],
   "source": [
    "# initialize simple list of length 5\n",
    "list=[10, 20.0, 30, 'fun', False]\n",
    "print(len(list))"
   ]
  },
  {
   "cell_type": "code",
   "execution_count": 20,
   "id": "4b6da94b",
   "metadata": {},
   "outputs": [
    {
     "name": "stdout",
     "output_type": "stream",
     "text": [
      "10\n"
     ]
    }
   ],
   "source": [
    "# print 1st item using positive index\n",
    "list=[10, 20.0, 30, 'fun', False]\n",
    "print(list[0])"
   ]
  },
  {
   "cell_type": "code",
   "execution_count": 21,
   "id": "97640ea7",
   "metadata": {},
   "outputs": [
    {
     "name": "stdout",
     "output_type": "stream",
     "text": [
      "30\n"
     ]
    }
   ],
   "source": [
    "# print 3rd item using positive index\n",
    "list=[10, 20.0, 30, 'fun', False]\n",
    "print(list[2])"
   ]
  },
  {
   "cell_type": "code",
   "execution_count": 22,
   "id": "588e45c1",
   "metadata": {},
   "outputs": [
    {
     "name": "stdout",
     "output_type": "stream",
     "text": [
      "False\n"
     ]
    }
   ],
   "source": [
    "\n",
    "# print last item using positive index\n",
    "list=[10, 20.0, 30, 'fun', False]\n",
    "print(list[4])"
   ]
  },
  {
   "cell_type": "markdown",
   "id": "74071683",
   "metadata": {},
   "source": [
    "Now lets try to index nested list"
   ]
  },
  {
   "cell_type": "code",
   "execution_count": 30,
   "id": "70a817ed",
   "metadata": {},
   "outputs": [
    {
     "name": "stdout",
     "output_type": "stream",
     "text": [
      "5\n"
     ]
    }
   ],
   "source": [
    "# initialize nested list of length 5\n",
    "list=['Kathmandu',40.0, 12,56, \"friends\",[\"anisha\", \"aayushma\",\"kritika\",10,20.0] ,False]\n",
    "print(len(list[5]))"
   ]
  },
  {
   "cell_type": "code",
   "execution_count": 31,
   "id": "de8d45e3",
   "metadata": {},
   "outputs": [
    {
     "name": "stdout",
     "output_type": "stream",
     "text": [
      "[10, 20.0]\n",
      "[20.0, 30, 'fun', False]\n",
      "[30, 'fun']\n",
      "[10, 20.0, 30, 'fun', False]\n"
     ]
    }
   ],
   "source": [
    "\n",
    "# practice indexing\n",
    "list=[10, 20.0, 30, 'fun', False]\n",
    "print(list[:2])\n",
    "print(list[1:])\n",
    "print(list[2:4])\n",
    "print(list[:])"
   ]
  },
  {
   "cell_type": "markdown",
   "id": "28a26608",
   "metadata": {},
   "source": [
    "negative indexing"
   ]
  },
  {
   "cell_type": "code",
   "execution_count": 32,
   "id": "4a60f21d",
   "metadata": {},
   "outputs": [
    {
     "name": "stdout",
     "output_type": "stream",
     "text": [
      "5\n"
     ]
    }
   ],
   "source": [
    "# reinitialize simple list of length 5\n",
    "list=[40, 20.0, True, 'fun', False]\n",
    "print(len(list))"
   ]
  },
  {
   "cell_type": "code",
   "execution_count": 34,
   "id": "e9cb80de",
   "metadata": {},
   "outputs": [
    {
     "name": "stdout",
     "output_type": "stream",
     "text": [
      "[10]\n"
     ]
    }
   ],
   "source": [
    "\n",
    "# print 1st item using negative index\n",
    "\n",
    "list=[10, 20.0, 30, 'fun', False]\n",
    "print(list[:-4])"
   ]
  },
  {
   "cell_type": "code",
   "execution_count": 37,
   "id": "5a737306",
   "metadata": {},
   "outputs": [
    {
     "name": "stdout",
     "output_type": "stream",
     "text": [
      "[30]\n"
     ]
    }
   ],
   "source": [
    "# print 3rd item using negative index\n",
    "list=[10, 20.0, 30, 'fun', False]\n",
    "print(list[-3:-2])\n"
   ]
  },
  {
   "cell_type": "code",
   "execution_count": 39,
   "id": "f9304eb1",
   "metadata": {},
   "outputs": [
    {
     "name": "stdout",
     "output_type": "stream",
     "text": [
      "[False]\n"
     ]
    }
   ],
   "source": [
    "# print last item using negative index\n",
    "list=[10, 20.0, 30, 'fun', False]\n",
    "print(list[-1:])"
   ]
  },
  {
   "cell_type": "code",
   "execution_count": 41,
   "id": "9c256c33",
   "metadata": {},
   "outputs": [
    {
     "name": "stdout",
     "output_type": "stream",
     "text": [
      "[10, 20.0, 'ejwoed', 'fun', False]\n"
     ]
    }
   ],
   "source": [
    "list=[10, 20.0, 30, 'fun', False]\n",
    "list[2]='ejwoed'\n",
    "print(list)"
   ]
  },
  {
   "cell_type": "markdown",
   "id": "c2f26767",
   "metadata": {},
   "source": [
    "3. Slicing Lists\n",
    "\n",
    "\n",
    "\n",
    "case 1: when step is positive"
   ]
  },
  {
   "cell_type": "code",
   "execution_count": 1,
   "id": "8f7a0ca0",
   "metadata": {},
   "outputs": [
    {
     "name": "stdout",
     "output_type": "stream",
     "text": [
      "['s', 't', 'r', 'i', 'n', 'g', 'i', 'n', 'd', 'e', 'x', 'i', 'n', 'g']\n"
     ]
    }
   ],
   "source": [
    "# initialize simple list (refer to above example)\n",
    "slicing_list=['s','t','r','i','n','g','i','n','d','e','x','i','n','g']\n",
    "print(slicing_list)"
   ]
  },
  {
   "cell_type": "code",
   "execution_count": 5,
   "id": "1d96132d",
   "metadata": {},
   "outputs": [
    {
     "name": "stdout",
     "output_type": "stream",
     "text": [
      "['s', 't', 'r']\n"
     ]
    }
   ],
   "source": [
    "\n",
    "# slice first 3 items using positive index\n",
    "\n",
    "slicing_list=['s','t','r','i','n','g','i','n','d','e','x','i','n','g']\n",
    "print(slicing_list[0:3])"
   ]
  },
  {
   "cell_type": "code",
   "execution_count": 6,
   "id": "94657b74",
   "metadata": {},
   "outputs": [
    {
     "name": "stdout",
     "output_type": "stream",
     "text": [
      "['i', 'n', 'g']\n"
     ]
    }
   ],
   "source": [
    "\n",
    "# slice last 3 items using negative index\n",
    "slicing_list=['s','t','r','i','n','g','i','n','d','e','x','i','n','g']\n",
    "print(slicing_list[-3:])"
   ]
  },
  {
   "cell_type": "code",
   "execution_count": 7,
   "id": "27f3f23e",
   "metadata": {},
   "outputs": [
    {
     "name": "stdout",
     "output_type": "stream",
     "text": [
      "['s', 'r', 'n', 'i', 'd', 'x', 'n']\n"
     ]
    }
   ],
   "source": [
    "# get list item at even index\n",
    "# e.g. ['S', 'r', 'n', ' ', 'n', 'e', i]\n",
    "\n",
    "\n",
    "slicing_list=['s','t','r','i','n','g','i','n','d','e','x','i','n','g']\n",
    "print(slicing_list[0:14:2])"
   ]
  },
  {
   "cell_type": "markdown",
   "id": "495facc5",
   "metadata": {},
   "source": [
    "case 2: when step is negative"
   ]
  },
  {
   "cell_type": "code",
   "execution_count": 10,
   "id": "342f5136",
   "metadata": {},
   "outputs": [
    {
     "name": "stdout",
     "output_type": "stream",
     "text": [
      "['s', 't', 'r']\n"
     ]
    }
   ],
   "source": [
    "# slice first 3 list items using positive index\n",
    "\n",
    "\n",
    "slicing_list=['s','t','r','i','n','g','i','n','d','e','x','i','n','g']\n",
    "print(slicing_list[0:3])"
   ]
  },
  {
   "cell_type": "code",
   "execution_count": 11,
   "id": "f18b8a24",
   "metadata": {},
   "outputs": [
    {
     "name": "stdout",
     "output_type": "stream",
     "text": [
      "['i', 'n', 'g']\n"
     ]
    }
   ],
   "source": [
    "# slice last 3 list items using negative index\n",
    "\n",
    "slicing_list=['s','t','r','i','n','g','i','n','d','e','x','i','n','g']\n",
    "print(slicing_list[-3:])\n",
    "\n"
   ]
  },
  {
   "cell_type": "code",
   "execution_count": 16,
   "id": "c778030d",
   "metadata": {},
   "outputs": [
    {
     "name": "stdout",
     "output_type": "stream",
     "text": [
      "['g', 'n', 'i', 'x', 'e', 'd', 'n', 'i', 'g', 'n', 'i', 'r', 't', 's']\n"
     ]
    }
   ],
   "source": [
    "# reverse list\n",
    "# output: ['n', 'i', 'x', 'e', 'd', 'n', 'I', ' ', 'g', 'n', 'i', 'r', 't', 'S']\n",
    "\n",
    "\n",
    "slicing_list=['s','t','r','i','n','g','i','n','d','e','x','i','n','g']\n",
    "print(slicing_list[::-1])"
   ]
  },
  {
   "cell_type": "markdown",
   "id": "c9c987bd",
   "metadata": {},
   "source": [
    "4. Lists are mutable\n",
    "\n",
    "\n",
    "\n",
    "Unlike Strings, Lists are mutable\n",
    "\n",
    "\n",
    "\n",
    "It means we can change list items after its creation"
   ]
  },
  {
   "cell_type": "code",
   "execution_count": 13,
   "id": "15714d98",
   "metadata": {},
   "outputs": [
    {
     "name": "stdout",
     "output_type": "stream",
     "text": [
      "['hi', 'i', 'am', 'mutable']\n"
     ]
    }
   ],
   "source": [
    "# verify lists are mutable\n",
    "\n",
    "mutable_list = ['hi', 'i', 'am', 'mutable']\n",
    "print(mutable_list)"
   ]
  },
  {
   "cell_type": "code",
   "execution_count": 14,
   "id": "e9a934b8",
   "metadata": {},
   "outputs": [
    {
     "name": "stdout",
     "output_type": "stream",
     "text": [
      "['hello', 'i', 'am', 'mutable']\n"
     ]
    }
   ],
   "source": [
    "\n",
    "# change first item 'hi' to 'hello'\n",
    "\n",
    "\n",
    "mutable_list = ['hi', 'i', 'am', 'mutable']\n",
    "mutable_list[0]=\"hello\"\n",
    "print(mutable_list)\n"
   ]
  },
  {
   "cell_type": "markdown",
   "id": "04ee1744",
   "metadata": {},
   "source": [
    "5. List Methods\n",
    "\n",
    "\n",
    "Most common Lists methods are:\n",
    "1. append(): Methods to add an item to the end of the list.\n",
    "2. insert(): Methods to add an item to list at a specified index.\n",
    "3. extend(): Methods to append elements from another list to the current list\n",
    "4. remove(): Methods to remove the specified item using item name.\n",
    "5. pop(): Methods to remove the list item using index. By Default pop takes up the last index.\n",
    "6. reverse(): Methods to reverse list.\n",
    "7. sort(): Methods to sort the string either in ascending order or descending order."
   ]
  },
  {
   "cell_type": "code",
   "execution_count": 27,
   "id": "541b6545",
   "metadata": {},
   "outputs": [
    {
     "name": "stdout",
     "output_type": "stream",
     "text": [
      "[45, 60.0, True, 'fun']\n"
     ]
    }
   ],
   "source": [
    "# Create a new list\n",
    "\n",
    "list=[45, 60.0, True, 'fun']\n",
    "print(list)"
   ]
  },
  {
   "cell_type": "code",
   "execution_count": 34,
   "id": "f7918cc7",
   "metadata": {},
   "outputs": [
    {
     "name": "stdout",
     "output_type": "stream",
     "text": [
      "[45, 60.0, True, 'fun', 'fact']\n"
     ]
    }
   ],
   "source": [
    "# add new item to the end of a list\n",
    "# Hint: list.append()\n",
    "\n",
    "list=[45, 60.0, True, 'fun']\n",
    "list.append(\"fact\")\n",
    "print(list)"
   ]
  },
  {
   "cell_type": "code",
   "execution_count": 35,
   "id": "ca64a60f",
   "metadata": {},
   "outputs": [
    {
     "name": "stdout",
     "output_type": "stream",
     "text": [
      "[45, 60.0, True, 'admin', 'fun']\n"
     ]
    }
   ],
   "source": [
    "# add new item at index 1 using insert()\n",
    "# Hint: list1.insert(, )\n",
    "\n",
    "list=[45, 60.0, True, 'fun']\n",
    "list.insert(3, \"admin\")\n",
    "print(list)\n",
    "      "
   ]
  },
  {
   "cell_type": "code",
   "execution_count": 40,
   "id": "bfa69f0f",
   "metadata": {},
   "outputs": [
    {
     "name": "stdout",
     "output_type": "stream",
     "text": [
      "[45, 60.0, True, 'fun', 10, 20.0, 30, 'fact', False]\n"
     ]
    }
   ],
   "source": [
    "# Given two list i.e. list1 and list2\n",
    "# extend list1 with item from list 2\n",
    "# Hint: list1.extend(list2)\n",
    "\n",
    "\n",
    "list1=[45, 60.0, True, 'fun']\n",
    "list2=[10, 20.0, 30, 'fact', False]\n",
    "list1.extend(list2)\n",
    "print(list1)"
   ]
  },
  {
   "cell_type": "code",
   "execution_count": 41,
   "id": "bbd7cd38",
   "metadata": {},
   "outputs": [
    {
     "name": "stdout",
     "output_type": "stream",
     "text": [
      "[10, 20.0, 30, False]\n"
     ]
    }
   ],
   "source": [
    "# remove specific item from list\n",
    "# Hint: list.remove()\n",
    "\n",
    "list=[10, 20.0, 30, 'fun', False]\n",
    "list.remove('fun')\n",
    "print(list)"
   ]
  },
  {
   "cell_type": "code",
   "execution_count": 42,
   "id": "8c5d2694",
   "metadata": {},
   "outputs": [
    {
     "name": "stdout",
     "output_type": "stream",
     "text": [
      "[10, 30, 'fun', False]\n"
     ]
    }
   ],
   "source": [
    "# remove item at index 1 of list\n",
    "# Hint: list1.pop()\n",
    "list=[10, 20.0, 30, 'fun', False]\n",
    "list.pop(1)\n",
    "print(list)"
   ]
  },
  {
   "cell_type": "code",
   "execution_count": 43,
   "id": "fe6dc702",
   "metadata": {},
   "outputs": [
    {
     "name": "stdout",
     "output_type": "stream",
     "text": [
      "[10, 20.0, 30, 'fun']\n"
     ]
    }
   ],
   "source": [
    "\n",
    "# remove last item from list\n",
    "# Hint: list1.pop()\n",
    "\n",
    "list=[10, 20.0, 30, 'fun', False]\n",
    "list.pop()\n",
    "print(list)"
   ]
  },
  {
   "cell_type": "code",
   "execution_count": 44,
   "id": "9c06ac72",
   "metadata": {},
   "outputs": [
    {
     "name": "stdout",
     "output_type": "stream",
     "text": [
      "[False, 'fun', 30, 20.0, 10]\n"
     ]
    }
   ],
   "source": [
    "# reverse list\n",
    "# Hint: list.reverse()\n",
    "\n",
    "\n",
    "list=[10, 20.0, 30, 'fun', False]\n",
    "list.reverse()\n",
    "print(list)"
   ]
  },
  {
   "cell_type": "code",
   "execution_count": 46,
   "id": "77c9c271",
   "metadata": {},
   "outputs": [
    {
     "name": "stdout",
     "output_type": "stream",
     "text": [
      "[10, 20.0, 30, 78, 90.0]\n"
     ]
    }
   ],
   "source": [
    "# sort list in ascending order\n",
    "# hint: list.sort()\n",
    "\n",
    "\n",
    "list=[10, 20.0, 30, 78, 90.0]\n",
    "list.sort()\n",
    "print(list)"
   ]
  },
  {
   "cell_type": "code",
   "execution_count": 47,
   "id": "e89aaf2c",
   "metadata": {},
   "outputs": [
    {
     "name": "stdout",
     "output_type": "stream",
     "text": [
      "[90.0, 78, 30, 20.0, 10]\n"
     ]
    }
   ],
   "source": [
    "# sort list in descending order\n",
    "# hint: list.sort(reverse=True)\n",
    "\n",
    "\n",
    "\n",
    "list=[10, 20.0, 30, 78, 90.0]\n",
    "list.sort(reverse=True)\n",
    "print(list)\n"
   ]
  },
  {
   "cell_type": "markdown",
   "id": "36df4f46",
   "metadata": {},
   "source": [
    "6. Join Lists\n",
    "\n",
    "\n",
    "\n",
    "Given list, how can we join the list items?\n",
    "\n",
    "Technique to convert list to string.\n",
    "\n",
    "Example:\n",
    "\n",
    "\n",
    "\n",
    "\n",
    "input_list = ['hello', 'world']\n",
    "ouput_list = \"hello world\"\n",
    "syntax: `result = separator.join()\n",
    "\n",
    "where, separator is the string that will be used to separate the elements in the resulting string."
   ]
  },
  {
   "cell_type": "code",
   "execution_count": 3,
   "id": "78a67c05",
   "metadata": {},
   "outputs": [
    {
     "name": "stdout",
     "output_type": "stream",
     "text": [
      "['new', 'old', True, False, 10, 34.0]\n"
     ]
    }
   ],
   "source": [
    "# create new list\n",
    "\n",
    "list=['new', 'old',True, False, 10, 34.0]\n",
    "print(list)"
   ]
  },
  {
   "cell_type": "code",
   "execution_count": 9,
   "id": "93cf91e2",
   "metadata": {},
   "outputs": [
    {
     "name": "stdout",
     "output_type": "stream",
     "text": [
      "['new', 'old', True, False, 10, 34.0]\n"
     ]
    }
   ],
   "source": [
    "\n",
    "# join list by space to form new string\n",
    "# Hint: \" \".join()\n",
    "\n",
    "\n",
    "list=['new', 'old',True, False, 10, 34.0]\n",
    "result=\"\".join(str(list))\n",
    "print(result)"
   ]
  },
  {
   "cell_type": "markdown",
   "id": "965a61e3",
   "metadata": {},
   "source": [
    "7. Loop Lists\n",
    "\n",
    "\n",
    "Similar to Strings, you can also loop through list items using a for loop.\n",
    "\n",
    "\n",
    "Q. Initialize List and print list items one by one using for loop."
   ]
  },
  {
   "cell_type": "code",
   "execution_count": 14,
   "id": "39ab26cd",
   "metadata": {},
   "outputs": [
    {
     "name": "stdout",
     "output_type": "stream",
     "text": [
      "ktm\n",
      "pokhara\n",
      "chitwan\n",
      "syangja\n"
     ]
    }
   ],
   "source": [
    "# create list\n",
    "\n",
    "# loop through list items\n",
    "\n",
    "\n",
    "place=['ktm','pokhara','chitwan','syangja']\n",
    "for i in place:\n",
    "    print(i)"
   ]
  },
  {
   "cell_type": "code",
   "execution_count": 25,
   "id": "a511f0c7",
   "metadata": {},
   "outputs": [
    {
     "name": "stdout",
     "output_type": "stream",
     "text": [
      "Index 0:ktm\n",
      "Index 1:pokhara\n",
      "Index 2:chitwan\n",
      "Index 3:syangja\n"
     ]
    }
   ],
   "source": [
    "# loop through list items using enumerate()\n",
    "\n",
    "place=['ktm','pokhara','chitwan','syangja']\n",
    "for index, i in enumerate(place):\n",
    "    print(f'Index {index}:{i}')\n",
    "    \n"
   ]
  },
  {
   "cell_type": "markdown",
   "id": "8283408d",
   "metadata": {},
   "source": [
    "8. List Comprehension\n",
    "\n",
    "\n",
    "List comprehension offers the shortest syntax for looping through lists.\n",
    "\n",
    "\n",
    "\n",
    "Syntax: newlist = [expression for item in iterable if condition == True]"
   ]
  },
  {
   "cell_type": "code",
   "execution_count": 36,
   "id": "ca750b10",
   "metadata": {},
   "outputs": [
    {
     "name": "stdout",
     "output_type": "stream",
     "text": [
      "lower_list:['apple', 'mango', 'banana', 'grapes']\n"
     ]
    }
   ],
   "source": [
    "# Write a python program to lowercase item in given list using list comprehension.\n",
    "sample_list = [\"APPLE\", \"Mango\", \"BaNaNa\", \"GRapes\"]\n",
    "#Output: lower_list = [\"apple\", \"mango\", \"banana\", \"grapes\"]\n",
    "\n",
    "\n",
    "a=[item.lower()for item in sample_list]\n",
    "print(f'lower_list:{a}')\n"
   ]
  },
  {
   "cell_type": "code",
   "execution_count": 48,
   "id": "b6f885a9",
   "metadata": {},
   "outputs": [
    {
     "name": "stdout",
     "output_type": "stream",
     "text": [
      "['apple', 'mango', 'banana', 'grapes']\n"
     ]
    }
   ],
   "source": [
    "# Given list of fruits i.e. fruit_list = ['apple', 'mango', 'banana', 'grapes', 'coffee'], Create new list named fruit_list removing item which is not fruit. Example = coffee.\n",
    "\n",
    "\n",
    "\n",
    "fruit_list=['apple','mango','banana','grapes','coffee']\n",
    "fruit_list.pop()\n",
    "print(fruit_list)"
   ]
  },
  {
   "cell_type": "markdown",
   "id": "1a50c664",
   "metadata": {},
   "source": [
    "9. List exercise\n",
    "\n",
    "\n",
    "\n",
    "Q.1 Write a python program that initializes non empty list of words with length = 5. Display longest word with its length."
   ]
  },
  {
   "cell_type": "code",
   "execution_count": 51,
   "id": "c7d49446",
   "metadata": {},
   "outputs": [
    {
     "name": "stdout",
     "output_type": "stream",
     "text": [
      "The longest word is banana with length 6\n"
     ]
    }
   ],
   "source": [
    "sample_list = ['mango', 'banana', 'kiwi', 'apple', 'grapes']\n",
    "\n",
    "longest_word = max(sample_list, key=len)\n",
    "word_length = len(longest_word)\n",
    "\n",
    "print(f'The longest word is {longest_word} with length {word_length}')\n"
   ]
  },
  {
   "cell_type": "code",
   "execution_count": 1,
   "id": "c67593cb",
   "metadata": {},
   "outputs": [
    {
     "name": "stdout",
     "output_type": "stream",
     "text": [
      "The total sum is 15\n"
     ]
    }
   ],
   "source": [
    "# Write a python program to sum all the items in a list\n",
    "sample_list = [1, 2, 3, 4, 5]\n",
    "total_sum = sum(sample_list)\n",
    "print(f'The total sum is {total_sum}')\n"
   ]
  },
  {
   "cell_type": "code",
   "execution_count": 7,
   "id": "c83a9450",
   "metadata": {},
   "outputs": [
    {
     "name": "stdout",
     "output_type": "stream",
     "text": [
      "The largest number from the list is 100\n"
     ]
    }
   ],
   "source": [
    "# Write a python program to get the largest number from a list.\n",
    "\n",
    "sample_list= [10, 20, 30, 100, 40]\n",
    "Largest_number= max(sample_list)\n",
    "print(f'The largest number from the list is {Largest_number}')"
   ]
  },
  {
   "cell_type": "code",
   "execution_count": 8,
   "id": "16fd8ca5",
   "metadata": {},
   "outputs": [
    {
     "name": "stdout",
     "output_type": "stream",
     "text": [
      "The smallest number is -1\n"
     ]
    }
   ],
   "source": [
    "# Write a python program to get the smallest number from a list.\n",
    "\n",
    "sample_list= [-1, 0, 1, 2] \n",
    "smallest_number=min(sample_list)\n",
    "print(f'The smallest number is {smallest_number}')"
   ]
  },
  {
   "cell_type": "code",
   "execution_count": 15,
   "id": "44b92e35",
   "metadata": {},
   "outputs": [
    {
     "name": "stdout",
     "output_type": "stream",
     "text": [
      " The no of strings satisfying the given condition is 2\n"
     ]
    }
   ],
   "source": [
    "# Write a Python program to count the number of strings where the string length is 2 or more and the first and last character are same from a given list of strings.\n",
    "\n",
    "sample_list = ['abc', 'xyz', 'aba', '1221']\n",
    "count=0\n",
    "for i in sample_list:\n",
    "    if (len(i)>=2 and i[0].lower==i[-1].lower):\n",
    "        count+=1\n",
    "\n",
    "print(f' The no of strings satisfying the given condition is {count}')"
   ]
  },
  {
   "cell_type": "code",
   "execution_count": 24,
   "id": "d387bf7b",
   "metadata": {},
   "outputs": [
    {
     "name": "stdout",
     "output_type": "stream",
     "text": [
      "The list is not empty\n"
     ]
    }
   ],
   "source": [
    "#Write a python program to check a list is empty or not.\n",
    "\n",
    "\n",
    "sample_list = ['abc', 'xyz', 'aba', '1221']\n",
    "if not  sample_list:\n",
    "    print(\"The list is emtpty\")\n",
    "else:\n",
    "    print(\"The list is not empty\")"
   ]
  },
  {
   "cell_type": "code",
   "execution_count": 25,
   "id": "bb8d1538",
   "metadata": {},
   "outputs": [
    {
     "name": "stdout",
     "output_type": "stream",
     "text": [
      "['emp1', 'emp2', 'emp3', 'emp4']\n"
     ]
    }
   ],
   "source": [
    "#Write a python program to insert a given string at the beginning of all items in a list.\n",
    "\n",
    "sample_list = [1, 2, 3, 4]\n",
    "str_to_insert = \"emp\"\n",
    "output=[f'{str_to_insert}{i}' for i in sample_list]\n",
    "print(output)\n",
    "    "
   ]
  },
  {
   "cell_type": "code",
   "execution_count": null,
   "id": "1ded97e0",
   "metadata": {},
   "outputs": [],
   "source": []
  }
 ],
 "metadata": {
  "kernelspec": {
   "display_name": "Python 3 (ipykernel)",
   "language": "python",
   "name": "python3"
  },
  "language_info": {
   "codemirror_mode": {
    "name": "ipython",
    "version": 3
   },
   "file_extension": ".py",
   "mimetype": "text/x-python",
   "name": "python",
   "nbconvert_exporter": "python",
   "pygments_lexer": "ipython3",
   "version": "3.10.9"
  }
 },
 "nbformat": 4,
 "nbformat_minor": 5
}
