{
 "cells": [
  {
   "cell_type": "markdown",
   "id": "59a7f923",
   "metadata": {},
   "source": [
    "Tuple\n",
    "\n",
    "\n",
    "\n",
    "A Tuple is a collection/sequence that are used to store multiple items (data types) in a single variable.\n",
    "\n",
    "\n",
    "\n",
    "Like Lists, Tuple can be either simple tuple or nested tuple.\n",
    "\n",
    "\n",
    "\n",
    "Unlike Lists, Tuples are immutable i.e. it cannot be changed once it's created.\n",
    "\n",
    "\n",
    "\n",
    "Tuples are heterogeneous i.e. it can store items of different basic data types.\n",
    "\n",
    "\n",
    "\n",
    "Tuples are written with round brackets.\n",
    "\n",
    "\n",
    "\n",
    "examples:\n",
    "(1, 'simple', 'tuple')\n",
    "((1, 2), 'nested', tuple\n",
    "\n",
    "\n",
    "\n",
    "\n",
    "Tuples are ordered, unchangeable, and allow duplicate values.\n",
    "\n",
    "\n",
    "\n"
   ]
  },
  {
   "cell_type": "code",
   "execution_count": 7,
   "id": "d5b0051c",
   "metadata": {},
   "outputs": [
    {
     "name": "stdout",
     "output_type": "stream",
     "text": [
      "('tuple', True, 10.0, 45, 'pokhara')\n"
     ]
    }
   ],
   "source": [
    "# create empty tuple\n",
    "\n",
    "\n",
    "tuple=('tuple',True, 10.0, 45,'pokhara')\n",
    "\n",
    "print(tuple)"
   ]
  },
  {
   "cell_type": "code",
   "execution_count": 8,
   "id": "6e28c933",
   "metadata": {},
   "outputs": [
    {
     "name": "stdout",
     "output_type": "stream",
     "text": [
      "<class 'tuple'>\n"
     ]
    }
   ],
   "source": [
    "# display type \n",
    "\n",
    "tuple=('tuple',True, 10.0, 45,'pokhara')\n",
    "print(type(tuple))"
   ]
  },
  {
   "cell_type": "code",
   "execution_count": 10,
   "id": "e8429726",
   "metadata": {},
   "outputs": [
    {
     "name": "stdout",
     "output_type": "stream",
     "text": [
      "5\n"
     ]
    }
   ],
   "source": [
    "# display length of tuple\n",
    "# Hint: len(tuple)\n",
    "\n",
    "\n",
    "\n",
    "tuple=('tuple',True, 10.0, 45,'pokhara')\n",
    "print(len(tuple))"
   ]
  },
  {
   "cell_type": "code",
   "execution_count": 14,
   "id": "14583484",
   "metadata": {},
   "outputs": [
    {
     "name": "stdout",
     "output_type": "stream",
     "text": [
      "('tuple', True, 10.0, 45, 'pokhara', ('nested', False, 89.0, 90))\n"
     ]
    }
   ],
   "source": [
    "# create nested tuple\n",
    "\n",
    "tuple=('tuple',True, 10.0, 45,'pokhara', ('nested', False, 89.0, 90))\n",
    "\n",
    "print(tuple)"
   ]
  },
  {
   "cell_type": "code",
   "execution_count": 12,
   "id": "7bbe0605",
   "metadata": {},
   "outputs": [
    {
     "name": "stdout",
     "output_type": "stream",
     "text": [
      "<class 'tuple'>\n"
     ]
    }
   ],
   "source": [
    "# display type of nested tuple\n",
    "\n",
    "tuple=('tuple',True, 10.0, 45,'pokhara', ('nested', False, 89.0, 90))\n",
    "print(type(tuple))\n"
   ]
  },
  {
   "cell_type": "code",
   "execution_count": 13,
   "id": "07765e73",
   "metadata": {},
   "outputs": [
    {
     "name": "stdout",
     "output_type": "stream",
     "text": [
      "6\n"
     ]
    }
   ],
   "source": [
    "# display length of nested tuple\n",
    "# Hint: len()\n",
    "\n",
    "\n",
    "tuple=('tuple',True, 10.0, 45,'pokhara', ('nested', False, 89.0, 90))\n",
    "\n",
    "print(len(tuple))"
   ]
  },
  {
   "cell_type": "markdown",
   "id": "fea9031a",
   "metadata": {},
   "source": [
    "Tuples creation from Strings\n",
    "\n",
    "\n",
    "\n",
    ".split()\n",
    "typecast"
   ]
  },
  {
   "cell_type": "code",
   "execution_count": 5,
   "id": "0cb32ea3",
   "metadata": {},
   "outputs": [
    {
     "name": "stdout",
     "output_type": "stream",
     "text": [
      "Enter the string: He is from KTM.\n",
      "Tuples creation from string:('He', 'is', 'from', 'KTM.')\n"
     ]
    }
   ],
   "source": [
    "sample=input(\"Enter the string: \")\n",
    "list_from_str=sample.split()\n",
    "tuple_from_list=tuple(list_from_str)\n",
    "print(f'Tuples creation from string:{tuple_from_list}')"
   ]
  },
  {
   "cell_type": "markdown",
   "id": "dd4a3dde",
   "metadata": {},
   "source": [
    "2. Indexing Tuples\n",
    "\n",
    "\n",
    "\n",
    "\n",
    "Indexing works similar to that of Lists.\n",
    "\n",
    "As we know, tuple is a sequenced collection of different objects such as Strings, Integer, etc.\n",
    "\n",
    "The address of each element within a tuple is called an index.\n",
    "\n",
    "An index is used to access and refer to items within a tuple.\n",
    "\n",
    "\n",
    "\n",
    "\n",
    "\n",
    "positive indexing"
   ]
  },
  {
   "cell_type": "code",
   "execution_count": 11,
   "id": "ed17e6b7",
   "metadata": {},
   "outputs": [
    {
     "name": "stdout",
     "output_type": "stream",
     "text": [
      "5\n"
     ]
    }
   ],
   "source": [
    "# initialize simple tuple of length 5\n",
    "\n",
    "tuple=('tuple',True, 10.0, 45,'pokhara')\n",
    "print(len(tuple))"
   ]
  },
  {
   "cell_type": "code",
   "execution_count": 12,
   "id": "191b58e4",
   "metadata": {},
   "outputs": [
    {
     "name": "stdout",
     "output_type": "stream",
     "text": [
      "tuple\n"
     ]
    }
   ],
   "source": [
    "# print 1st item using positive index\n",
    "\n",
    "tuple=('tuple',True, 10.0, 45,'pokhara')\n",
    "print(tuple[0])"
   ]
  },
  {
   "cell_type": "code",
   "execution_count": 13,
   "id": "2bf42f7a",
   "metadata": {},
   "outputs": [
    {
     "name": "stdout",
     "output_type": "stream",
     "text": [
      "pokhara\n"
     ]
    }
   ],
   "source": [
    "# print last item using positive index\n",
    "\n",
    "tuple=('tuple',True, 10.0, 45,'pokhara')\n",
    "print(tuple[4])"
   ]
  },
  {
   "cell_type": "markdown",
   "id": "8debc5cf",
   "metadata": {},
   "source": [
    "negative indexing"
   ]
  },
  {
   "cell_type": "code",
   "execution_count": 14,
   "id": "9dd2bc2e",
   "metadata": {},
   "outputs": [
    {
     "name": "stdout",
     "output_type": "stream",
     "text": [
      "tuple\n"
     ]
    }
   ],
   "source": [
    "# print 1st item using negative index\n",
    "\n",
    "tuple=('tuple',True, 10.0, 45,'pokhara')\n",
    "print(tuple[-5])"
   ]
  },
  {
   "cell_type": "code",
   "execution_count": 16,
   "id": "da3200a7",
   "metadata": {},
   "outputs": [
    {
     "name": "stdout",
     "output_type": "stream",
     "text": [
      "pokhara\n"
     ]
    }
   ],
   "source": [
    "# print last item using negative index\n",
    "\n",
    "tuple=('tuple',True, 10.0, 45,'pokhara')\n",
    "\n",
    "print(tuple[-1])"
   ]
  },
  {
   "cell_type": "markdown",
   "id": "e18fa869",
   "metadata": {},
   "source": [
    "3. Slicing Tuples\n",
    "\n",
    "\n",
    "\n",
    "Slicing Tuples means extracting part of list items.\n",
    "\n",
    "\n",
    "\n",
    "Concepts of Slicing Tuples is similar to Slicing Lists.\n",
    "\n",
    "\n",
    "Syntax: tuple[start:end:step]"
   ]
  },
  {
   "cell_type": "markdown",
   "id": "03b177c7",
   "metadata": {},
   "source": [
    "case 1: when step is positive"
   ]
  },
  {
   "cell_type": "code",
   "execution_count": 24,
   "id": "56a3108e",
   "metadata": {},
   "outputs": [
    {
     "name": "stdout",
     "output_type": "stream",
     "text": [
      "('tuple', True, 10.0, 45, 'pokhara')\n"
     ]
    }
   ],
   "source": [
    "# initialize simple Tuples\n",
    "tuple=('tuple',True, 10.0, 45,'pokhara')\n",
    "print(tuple)\n"
   ]
  },
  {
   "cell_type": "code",
   "execution_count": 26,
   "id": "8c9db81b",
   "metadata": {},
   "outputs": [
    {
     "name": "stdout",
     "output_type": "stream",
     "text": [
      "('tuple', True, 10.0)\n"
     ]
    }
   ],
   "source": [
    "# slice first 3 items using positive index\n",
    "\n",
    "tuple=('tuple',True, 10.0, 45,'pokhara')\n",
    "print(tuple[:3])"
   ]
  },
  {
   "cell_type": "code",
   "execution_count": 27,
   "id": "01810ed7",
   "metadata": {},
   "outputs": [
    {
     "name": "stdout",
     "output_type": "stream",
     "text": [
      "(10.0, 45, 'pokhara')\n"
     ]
    }
   ],
   "source": [
    "# slice last 3 items using negative index\n",
    "tuple=('tuple',True, 10.0, 45,'pokhara')\n",
    "print(tuple[-3:])"
   ]
  },
  {
   "cell_type": "code",
   "execution_count": 28,
   "id": "ca85c135",
   "metadata": {},
   "outputs": [
    {
     "name": "stdout",
     "output_type": "stream",
     "text": [
      "('tuple', 10.0, 'pokhara')\n"
     ]
    }
   ],
   "source": [
    "# get tuple items at even index\n",
    "tuple=('tuple',True, 10.0, 45,'pokhara')\n",
    "print(tuple[::2])"
   ]
  },
  {
   "cell_type": "markdown",
   "id": "92393f11",
   "metadata": {},
   "source": [
    "case 2: when step is negative"
   ]
  },
  {
   "cell_type": "code",
   "execution_count": 33,
   "id": "689d6292",
   "metadata": {},
   "outputs": [
    {
     "name": "stdout",
     "output_type": "stream",
     "text": [
      "('pokhara', 45, 10.0, True, 'tuple')\n"
     ]
    }
   ],
   "source": [
    "#reverse tuple\n",
    "tuple=('tuple',True, 10.0, 45,'pokhara')\n",
    "print(tuple[::-1])"
   ]
  },
  {
   "cell_type": "markdown",
   "id": "3d8101c4",
   "metadata": {},
   "source": [
    "4. Lists are immutable\n",
    "\n",
    "\n",
    "Unlike Lists, Tuoles are mutable\n",
    "\n",
    "\n",
    "It means we can't change tuple items after its creation."
   ]
  },
  {
   "cell_type": "code",
   "execution_count": 34,
   "id": "a7471afe",
   "metadata": {},
   "outputs": [
    {
     "ename": "TypeError",
     "evalue": "'tuple' object does not support item assignment",
     "output_type": "error",
     "traceback": [
      "\u001b[1;31m---------------------------------------------------------------------------\u001b[0m",
      "\u001b[1;31mTypeError\u001b[0m                                 Traceback (most recent call last)",
      "Cell \u001b[1;32mIn[34], line 3\u001b[0m\n\u001b[0;32m      1\u001b[0m \u001b[38;5;66;03m# verify tuples are immutable\u001b[39;00m\n\u001b[0;32m      2\u001b[0m \u001b[38;5;28mtuple\u001b[39m\u001b[38;5;241m=\u001b[39m(\u001b[38;5;124m'\u001b[39m\u001b[38;5;124mverify\u001b[39m\u001b[38;5;124m'\u001b[39m, \u001b[38;5;124m'\u001b[39m\u001b[38;5;124mtuples\u001b[39m\u001b[38;5;124m'\u001b[39m, \u001b[38;5;28;01mTrue\u001b[39;00m, \u001b[38;5;241m89\u001b[39m)\n\u001b[1;32m----> 3\u001b[0m \u001b[38;5;28mtuple\u001b[39m[\u001b[38;5;241m0\u001b[39m]\u001b[38;5;241m=\u001b[39m\u001b[38;5;28;01mFalse\u001b[39;00m\n\u001b[0;32m      4\u001b[0m \u001b[38;5;28mprint\u001b[39m(\u001b[38;5;28mtuple\u001b[39m)\n",
      "\u001b[1;31mTypeError\u001b[0m: 'tuple' object does not support item assignment"
     ]
    }
   ],
   "source": [
    "# verify tuples are immutable\n",
    "tuple=('verify', 'tuples', True, 89)\n",
    "tuple[0]=False\n",
    "print(tuple)"
   ]
  },
  {
   "cell_type": "markdown",
   "id": "f671b410",
   "metadata": {},
   "source": [
    "5. Tuples Methods\n",
    "\n",
    "\n",
    "count(): returns number of times a specified value occures in a tuple\n",
    "    \n",
    "    \n",
    "index(): returns index of specified value in tuple"
   ]
  },
  {
   "cell_type": "code",
   "execution_count": 38,
   "id": "16debe5a",
   "metadata": {},
   "outputs": [
    {
     "name": "stdout",
     "output_type": "stream",
     "text": [
      "(1, 2, 2, 2, 3, 4, 2, 5, 6, 7)\n"
     ]
    }
   ],
   "source": [
    "# initialize tuple\n",
    "\n",
    "tuple_method = (1, 2, 2, 2, 3, 4, 2, 5, 6, 7)\n",
    "print(tuple_method)"
   ]
  },
  {
   "cell_type": "code",
   "execution_count": 43,
   "id": "7edf57f8",
   "metadata": {},
   "outputs": [
    {
     "name": "stdout",
     "output_type": "stream",
     "text": [
      "4\n"
     ]
    }
   ],
   "source": [
    "# count number of occurence of item \"2\"\n",
    "# Hint: tuple.count(<item>)\n",
    "\n",
    "tuple_method = (1, 2, 2, 2, 3, 4, 2, 5, 6, 7)\n",
    "a=tuple_method.count(2)\n",
    "print(a)"
   ]
  },
  {
   "cell_type": "code",
   "execution_count": 45,
   "id": "14d22110",
   "metadata": {},
   "outputs": [
    {
     "name": "stdout",
     "output_type": "stream",
     "text": [
      "5\n"
     ]
    }
   ],
   "source": [
    "# get index of first item \"4\"\n",
    "# tuple.index(<item>)\n",
    "tuple_method = (1, 2, 2, 2, 3, 4, 2, 5, 6, 7)\n",
    "print(tuple_method.index(4))"
   ]
  },
  {
   "cell_type": "markdown",
   "id": "c14f66be",
   "metadata": {},
   "source": [
    "How to add item in Tuple?\n",
    "\n",
    "\n",
    "\n",
    "Tuples are immutable.\n",
    "\n",
    "\n",
    "They do not have append() methods like list.\n",
    "\n",
    "\n",
    "Is there any way to add items to Tuple, once it is created?\n",
    "\n",
    "\n",
    "Approach 1:\n",
    "\n",
    "Input Tuple\n",
    "\n",
    "\n",
    "Typecast Tuple to List\n",
    "\n",
    "\n",
    "Append item to List\n",
    "\n",
    "\n",
    "Typecast List back to Tuple"
   ]
  },
  {
   "cell_type": "code",
   "execution_count": 2,
   "id": "d474f338",
   "metadata": {},
   "outputs": [
    {
     "name": "stdout",
     "output_type": "stream",
     "text": [
      " Modified tuple is :('ktm', False, 56, 89.0, 'pokhara', 78, 'Mango', 'Orange')\n"
     ]
    }
   ],
   "source": [
    "tuple1=('ktm', False, 56, 89.0)\n",
    "\n",
    "tuple_to_list1=list(tuple1)\n",
    "\n",
    "tuple_to_list2=[\"pokhara\", 78, 'Mango','Orange']\n",
    "\n",
    "new_list=tuple_to_list1 + tuple_to_list2\n",
    "\n",
    "new_tuple=tuple(new_list)\n",
    "\n",
    "print(f' Modified tuple is :{new_tuple}')"
   ]
  },
  {
   "cell_type": "markdown",
   "id": "76c343ad",
   "metadata": {},
   "source": [
    "Approach 2:\n",
    "    \n",
    "    \n",
    "\n",
    "Input Tuple.\n",
    "\n",
    "\n",
    "Create Tuple with value to be added to main Tuple\n",
    "\n",
    "\n",
    "Concatenate Tuple using + operator."
   ]
  },
  {
   "cell_type": "code",
   "execution_count": 3,
   "id": "0a82d5e6",
   "metadata": {},
   "outputs": [
    {
     "name": "stdout",
     "output_type": "stream",
     "text": [
      "('ktm', False, 56, 89.0, 'pokhara', True, 34)\n"
     ]
    }
   ],
   "source": [
    "tuple1=('ktm', False, 56, 89.0)\n",
    "\n",
    "tuple2=(\"pokhara\", True, 34)\n",
    "\n",
    "new_tuple= tuple1+tuple2\n",
    "\n",
    "print(new_tuple)"
   ]
  },
  {
   "cell_type": "markdown",
   "id": "4366b586",
   "metadata": {},
   "source": [
    "Unpack Tuples\n",
    "\n",
    "\n",
    "Tuples creation process discussed till now, also means \"packing\" a tuple.\n",
    "\n",
    "\n",
    "\n",
    "Example: sample_tuple = ('python', 'is', 'awesome')\n",
    "    \n",
    "    \n",
    "Unpacking Tuples means extracting values back into variables\n",
    "\n",
    "\n",
    "\n",
    "\n",
    "Example: first_item, secon_item, third_item = sample_tuple"
   ]
  },
  {
   "cell_type": "code",
   "execution_count": 4,
   "id": "82048969",
   "metadata": {},
   "outputs": [
    {
     "name": "stdout",
     "output_type": "stream",
     "text": [
      "Dell\n",
      "Acer\n",
      "Hp\n",
      "Lenovo\n"
     ]
    }
   ],
   "source": [
    "# create tuples of length 4\n",
    "# unpack tuples items to 4 other variables\n",
    "\n",
    "a,b,c,d= tuples= ('Dell',\"Acer\", \"Hp\", \"Lenovo\")\n",
    "print(a)\n",
    "print(b)\n",
    "print(c)\n",
    "print(d)"
   ]
  },
  {
   "cell_type": "markdown",
   "id": "985effad",
   "metadata": {},
   "source": [
    "Unpack Tuples using Asterik *\n",
    "\n",
    "\n",
    "\n",
    "Useful, if number of variables is less than the number of items in tuples"
   ]
  },
  {
   "cell_type": "code",
   "execution_count": 6,
   "id": "33bdb55c",
   "metadata": {},
   "outputs": [
    {
     "name": "stdout",
     "output_type": "stream",
     "text": [
      "['Dell', 'Acer']\n",
      "Hp\n",
      "Lenovo\n"
     ]
    }
   ],
   "source": [
    "# Unpack Tuples values using 3 variables\n",
    "# Hint: a, *b, c\n",
    "\n",
    "*a,b,c,= tuples= ('Dell',\"Acer\", \"Hp\", \"Lenovo\")\n",
    "\n",
    "print(a)\n",
    "\n",
    "print(b)\n",
    "\n",
    "print(c)\n"
   ]
  },
  {
   "cell_type": "markdown",
   "id": "b5e3418a",
   "metadata": {},
   "source": [
    "9. Loop Tuples\n",
    "\n",
    "\n",
    "Similar to List, you can loop through Tuples items using a for loop."
   ]
  },
  {
   "cell_type": "code",
   "execution_count": 9,
   "id": "e03de72d",
   "metadata": {},
   "outputs": [
    {
     "name": "stdout",
     "output_type": "stream",
     "text": [
      "pink\n",
      "black\n",
      "white\n",
      "lavender\n",
      "brown\n",
      "coffee\n"
     ]
    }
   ],
   "source": [
    "# Initialize Tuples and loop through Tuples items one by one.\n",
    "\n",
    "colours=(\"pink\", 'black','white','lavender','brown','coffee')\n",
    "for i in colours:\n",
    " print(i)"
   ]
  },
  {
   "cell_type": "code",
   "execution_count": 18,
   "id": "a3fb79a0",
   "metadata": {},
   "outputs": [
    {
     "name": "stdout",
     "output_type": "stream",
     "text": [
      "indexing 0 : pink\n",
      "indexing 1 : black\n",
      "indexing 2 : white\n",
      "indexing 3 : lavender\n",
      "indexing 4 : brown\n",
      "indexing 5 : coffee\n"
     ]
    }
   ],
   "source": [
    "#Use enumerate() function to loop through Tupes to get index and values.\n",
    "colours=(\"pink\", 'black','white','lavender','brown','coffee')\n",
    "\n",
    "for index, i in enumerate (colours):\n",
    "    \n",
    " print(f'indexing {index} : {i}')"
   ]
  },
  {
   "cell_type": "code",
   "execution_count": 26,
   "id": "de4b81f5",
   "metadata": {},
   "outputs": [
    {
     "name": "stdout",
     "output_type": "stream",
     "text": [
      "Given tuples are:('apple', 'mango', 'banana', 'grapes')\n"
     ]
    }
   ],
   "source": [
    "# Write a python program to lowercase item in given Tuples using Tuple comprehension.\n",
    "sample_tuple = (\"APPLE\", \"Mango\", \"BaNaNa\", \"GRapes\")\n",
    "\n",
    "a=tuple(i.lower() for i in sample_tuple)\n",
    "\n",
    "print(f'Given tuples are:{a}')\n"
   ]
  },
  {
   "cell_type": "code",
   "execution_count": null,
   "id": "3b254fea",
   "metadata": {},
   "outputs": [],
   "source": []
  }
 ],
 "metadata": {
  "kernelspec": {
   "display_name": "Python 3 (ipykernel)",
   "language": "python",
   "name": "python3"
  },
  "language_info": {
   "codemirror_mode": {
    "name": "ipython",
    "version": 3
   },
   "file_extension": ".py",
   "mimetype": "text/x-python",
   "name": "python",
   "nbconvert_exporter": "python",
   "pygments_lexer": "ipython3",
   "version": "3.10.9"
  }
 },
 "nbformat": 4,
 "nbformat_minor": 5
}
