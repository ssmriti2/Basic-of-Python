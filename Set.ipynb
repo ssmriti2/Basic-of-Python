{
 "cells": [
  {
   "cell_type": "markdown",
   "id": "656ae8a9",
   "metadata": {},
   "source": [
    "Set\n",
    "A set is a collection, which is unordered, Unchangeable, and Duplicates are not allowed.\n",
    "\n",
    "\n",
    "\n",
    "Unordered:\n",
    "It means that the items in a set do not have defined order. Concepts of Indexing is not used.\n",
    "\n",
    "\n",
    "Unchangeable:\n",
    "Once set is created, you cannot change the items, but you can remove items and add new items i.e. sets are mutable.\n",
    "\n",
    "\n",
    "\n",
    "\n",
    "Unidexed:\n",
    "Duplicates are not allowed:\n",
    "Sets cannot have two items with same value.\n",
    "True and 1 are considered as same in set\n",
    "Sets are written with curly {} brackets. Python will automatically remove duplicates.\n",
    "\n",
    "\n",
    "\n",
    "\n",
    "\n",
    "True and 1 are considered as same in set\n",
    "\n",
    "\n",
    "\n",
    "False and 0 are considered as same in set\n",
    "\n",
    "\n",
    "\n",
    "\n",
    "\n",
    "We only work with simple sets. There is no concepts of nested sets in python.\n",
    "\n",
    "We can achieve nested sets like concepts using frozenset (which is out of scope of this class).\n",
    "\n",
    "\n",
    "\n",
    "\n",
    "\n",
    "\n",
    "Example: simple_set = {'item1', True, False}\n",
    "In this lecture we'll cover:\n",
    "\n",
    "\n",
    "\n",
    "\n",
    "\n",
    "\n",
    "\n",
    "\n",
    "\n",
    "\n",
    "Creating Sets\n",
    "\n",
    "\n",
    "\n",
    "\n",
    "Sets methods / Operations\n",
    "\n",
    "\n",
    "\n",
    "Sets are mutable\n",
    "\n",
    "\n",
    "\n",
    "\n",
    "Loop Sets\n",
    "\n",
    "\n",
    "\n",
    "\n",
    "\n",
    "Set Comprehension"
   ]
  },
  {
   "cell_type": "markdown",
   "id": "07771c38",
   "metadata": {},
   "source": [
    "1. Creating Sets\n",
    "\n",
    "\n",
    "To create a Set, type the set items within curly brackets { }, separated by commas.\n",
    "\n",
    "\n",
    "\n",
    "Example: {\"item1\", 2, 'item3', 4}\n"
   ]
  },
  {
   "cell_type": "code",
   "execution_count": 9,
   "id": "2d3e6bbf",
   "metadata": {},
   "outputs": [
    {
     "name": "stdout",
     "output_type": "stream",
     "text": [
      "{'fries', 'pizza', 'burger', 'momo'}\n",
      "{True, 'chocolate', 90, 'drinks', 'food'}\n"
     ]
    }
   ],
   "source": [
    "\n",
    "# create empty set\n",
    "# use: set()\n",
    "\n",
    "food={'momo','burger', 'pizza', 'fries'}\n",
    "print(food)\n",
    "\n",
    "\n",
    "\n",
    "data=('food','drinks','chocolate', 90, True, 1)\n",
    "item=set(data)\n",
    "print(item)\n",
    "\n"
   ]
  },
  {
   "cell_type": "code",
   "execution_count": 10,
   "id": "7fb422cb",
   "metadata": {},
   "outputs": [
    {
     "name": "stdout",
     "output_type": "stream",
     "text": [
      "<class 'set'>\n"
     ]
    }
   ],
   "source": [
    "# display type \n",
    "\n",
    "food={'momo','burger', 'pizza', 'fries'}\n",
    "print(type(food))\n"
   ]
  },
  {
   "cell_type": "code",
   "execution_count": 11,
   "id": "e5ecdfa5",
   "metadata": {},
   "outputs": [
    {
     "name": "stdout",
     "output_type": "stream",
     "text": [
      "{True, 'chocolate', 90, 'drinks', 'food'}\n"
     ]
    }
   ],
   "source": [
    "\n",
    "# create simple set with mixed data types\n",
    "\n",
    "data=('food','drinks','chocolate', 90, True, 1)\n",
    "item=set(data)\n",
    "print(item)"
   ]
  },
  {
   "cell_type": "code",
   "execution_count": 12,
   "id": "a87851c6",
   "metadata": {},
   "outputs": [
    {
     "name": "stdout",
     "output_type": "stream",
     "text": [
      "5\n"
     ]
    }
   ],
   "source": [
    "\n",
    "# display length of set\n",
    "# Hint: len(set)\n",
    "\n",
    "data=('food','drinks','chocolate', 90, True, 1)\n",
    "item=set(data)\n",
    "print(len(item))"
   ]
  },
  {
   "cell_type": "markdown",
   "id": "50818740",
   "metadata": {},
   "source": [
    "2. Sets Methods/Operations.\n",
    "\n",
    "\n",
    "\n",
    "Most common set methods/operations are:\n",
    "\n",
    "\n",
    "\n",
    "add(): Method to add a new element to a set.\n",
    "\n",
    "\n",
    "\n",
    "remove(): Method to remove item from a set.\n",
    "\n",
    "\n",
    "pop(): Method to remove item from a set and returns removed item\n",
    "\n",
    "\n",
    "union(): Method that return a set containing union of sets..\n",
    "\n",
    "\n",
    "\n",
    "intersection(): Method that return a set that is intersection of 2 other sets.\n",
    "\n",
    "\n",
    "\n",
    "\n",
    "difference(): Method that return a set containing difference between two or more sets."
   ]
  },
  {
   "cell_type": "markdown",
   "id": "0e0fe5ed",
   "metadata": {},
   "source": [
    "add()\n",
    "\n",
    "Method to add a new element to a set itself\n",
    "\n",
    "\n",
    "\n",
    "Syntax: set.add(<item>)"
   ]
  },
  {
   "cell_type": "code",
   "execution_count": 13,
   "id": "68bf0282",
   "metadata": {},
   "outputs": [
    {
     "name": "stdout",
     "output_type": "stream",
     "text": [
      "{'fries', 'pizza', 'burger', 'momo'}\n"
     ]
    }
   ],
   "source": [
    "\n",
    "# inialize set\n",
    "food={'momo','burger', 'pizza', 'fries'}\n",
    "print(food)\n"
   ]
  },
  {
   "cell_type": "code",
   "execution_count": 16,
   "id": "07019928",
   "metadata": {},
   "outputs": [
    {
     "name": "stdout",
     "output_type": "stream",
     "text": [
      "{'best', 'aweseome', 'good', 'average', 'medium', 'excellent'}\n"
     ]
    }
   ],
   "source": [
    "\n",
    "# add item \"awesome\"\n",
    "# hint: set.add()\n",
    "\n",
    "quality={'average', 'good','best', 'excellent', 'medium'}\n",
    "quality.add('aweseome')\n",
    "print(quality)\n"
   ]
  },
  {
   "cell_type": "markdown",
   "id": "38d411d6",
   "metadata": {},
   "source": [
    "remove()\n",
    "\n",
    "Method to remove item from a set itself, without returning new set.\n",
    "Syntax: set.remove(<item>)"
   ]
  },
  {
   "cell_type": "code",
   "execution_count": 17,
   "id": "c546ae85",
   "metadata": {},
   "outputs": [
    {
     "name": "stdout",
     "output_type": "stream",
     "text": [
      "{'best', 'good', 'medium', 'average', 'excellent'}\n"
     ]
    }
   ],
   "source": [
    "# remove item \"awesome\" from set\n",
    "# hint: set.remove()\n",
    "\n",
    "\n",
    "quality={'average', 'good','best', 'excellent', 'medium','awesome'}\n",
    "quality.remove('awesome')\n",
    "print(quality)\n"
   ]
  },
  {
   "cell_type": "markdown",
   "id": "d124889b",
   "metadata": {},
   "source": [
    "pop()\n",
    "\n",
    "\n",
    "\n",
    "\n",
    "You can also use the pop() method to remove an item, but this method will remove a random item, so you cannot be sure what item that gets removed.\n",
    "Generally, it will remove from starting item in a set.\n",
    "\n",
    "\n",
    "\n",
    "\n",
    "It returns a item that is removed from a set.\n",
    "\n",
    "\n",
    "syntax: removed_item = set.pop()"
   ]
  },
  {
   "cell_type": "code",
   "execution_count": 19,
   "id": "1f948fec",
   "metadata": {},
   "outputs": [
    {
     "name": "stdout",
     "output_type": "stream",
     "text": [
      "{'good', 'medium', 'average', 'awesome', 'excellent'}\n"
     ]
    }
   ],
   "source": [
    "# remove set item using \"pop()\"\n",
    "# hint: removed_item = set.pop()\n",
    "\n",
    "\n",
    "quality={'average', 'good','best', 'excellent', 'medium','awesome'}\n",
    "quality.pop()\n",
    "print(quality)"
   ]
  },
  {
   "cell_type": "markdown",
   "id": "a079b4bd",
   "metadata": {},
   "source": [
    "union()\n",
    "\n",
    "\n",
    "\n",
    "\n",
    "Method that return a set containing union of sets.\n",
    "The union of two sets A and B include all the elements of set A and B. No duplicates in final obtained set.\n",
    "\n",
    "\n",
    "\n",
    "\n",
    "syntax:\n",
    "\n",
    "\n",
    "\n",
    "set_union = set1.union(set2)\n",
    "set_union = set1 | set2"
   ]
  },
  {
   "cell_type": "code",
   "execution_count": 20,
   "id": "0f284456",
   "metadata": {},
   "outputs": [
    {
     "name": "stdout",
     "output_type": "stream",
     "text": [
      "{1, 2, 3, 4, 5}\n",
      "{4, 5, 6, 7, 8}\n"
     ]
    }
   ],
   "source": [
    "## create two sets\n",
    "set1 = {1, 2, 3, 4, 5}\n",
    "set2= {4, 5, 6, 7, 8}\n",
    "\n",
    "print(set1)\n",
    "print(set2)"
   ]
  },
  {
   "cell_type": "code",
   "execution_count": 24,
   "id": "65489b76",
   "metadata": {},
   "outputs": [
    {
     "name": "stdout",
     "output_type": "stream",
     "text": [
      "Union of set1 and set2 is: {1, 2, 3, 4, 5, 6, 7, 8}\n"
     ]
    }
   ],
   "source": [
    "# union of set using union() method\n",
    "# hint: set_union = set1.union(set2)\n",
    "\n",
    "\n",
    "set1 = {1, 2, 3, 4, 5}\n",
    "set2= {4, 5, 6, 7, 8}\n",
    "set_union = set1.union(set2)\n",
    "\n",
    "print(f\"Union of set1 and set2 is: {set_union}\")\n"
   ]
  },
  {
   "cell_type": "code",
   "execution_count": 30,
   "id": "6a3282ed",
   "metadata": {},
   "outputs": [
    {
     "name": "stdout",
     "output_type": "stream",
     "text": [
      "Unions of two set usig the pipe is :{1, 2, 3, 4, 5, 6, 7, 8}\n"
     ]
    }
   ],
   "source": [
    "# union of set using (|) operator\n",
    "# hint: set_union_pipe = set1 |set2\n",
    "\n",
    "\n",
    "\n",
    "set1 = {1, 2, 3, 4, 5}\n",
    "set2= {4, 5, 6, 7, 8}\n",
    "set_union_pipe=set1|set2\n",
    "print(f'Unions of two set usig the pipe is :{set_union_pipe}')"
   ]
  },
  {
   "cell_type": "markdown",
   "id": "31a7bbb9",
   "metadata": {},
   "source": [
    "intersection()\n",
    "\n",
    "\n",
    "\n",
    "\n",
    "Method that return a set containing intesection of sets.\n",
    "\n",
    "\n",
    "\n",
    "\n",
    "\n",
    "The intersection of two sets A and B include the common elements between set A and B. No duplicates in final obtained set.\n",
    "\n",
    "syntax:\n",
    "\n",
    "\n",
    "\n",
    "\n",
    "set_common = set1.intersection(set2)\n",
    "set_union = set1 & set2"
   ]
  },
  {
   "cell_type": "code",
   "execution_count": 36,
   "id": "cd03076a",
   "metadata": {},
   "outputs": [
    {
     "name": "stdout",
     "output_type": "stream",
     "text": [
      "Intersection of two set is:{4, 5, 6}\n"
     ]
    }
   ],
   "source": [
    "# intersection of set using intersection() method\n",
    "# hint: set_common = set1.intersection(set2)\n",
    "\n",
    "\n",
    "set1 = {1, 2, 3, 4, 6, 5}\n",
    "set2= {4, 5, 6, 7, 8}\n",
    "set_intersection=set1.intersection(set2)\n",
    "print(f'Intersection of two set is:{set_intersection}')"
   ]
  },
  {
   "cell_type": "code",
   "execution_count": 34,
   "id": "610aef88",
   "metadata": {},
   "outputs": [
    {
     "name": "stdout",
     "output_type": "stream",
     "text": [
      "set intersection using the and is :{4, 5, 6}\n",
      "{4, 5, 6}\n"
     ]
    }
   ],
   "source": [
    "# intersection of set using intersection() method\n",
    "# hint: set_common = set1.intersection(set2)\n",
    "\n",
    "\n",
    "\n",
    "\n",
    "set1 = {1, 2, 3, 4, 5}\n",
    "set2= {4, 5, 6, 7, 8}\n",
    "set_intersectionn=set1&set2\n",
    "print(f\"set intersection using the and is :{set_intersection}\")\n",
    "print(set_intersection)\n",
    "      "
   ]
  },
  {
   "cell_type": "markdown",
   "id": "e9ab8bf8",
   "metadata": {},
   "source": [
    "difference():\n",
    "\n",
    "\n",
    "\n",
    "Method that return a set containing difference between two or more sets.\n",
    "The difference between two sets A and B denoted by A-Binclude elements of set A that are not present on set B.\n",
    "syntax: set_diff = set1.difference(set2)"
   ]
  },
  {
   "cell_type": "code",
   "execution_count": 40,
   "id": "8e97ccd5",
   "metadata": {},
   "outputs": [
    {
     "name": "stdout",
     "output_type": "stream",
     "text": [
      "The diference of two set is :{1, 2, 3}\n",
      "The diference of two set is :{1, 2, 3}\n"
     ]
    }
   ],
   "source": [
    "# difference of set using difference() method\n",
    "# hint: set_diff = set1.difference(set2)\n",
    "# or\n",
    "# hint: set_diff = set1 - set2\n",
    "\n",
    "set1 = {1, 2, 3, 4, 5}\n",
    "set2= {4, 5, 6, 7, 8}\n",
    "set_difference=set1.difference(set2)\n",
    "print(f'The diference of two set is :{set_difference}')\n",
    "\n",
    "set_diff=set1-set2\n",
    "print(f'The diference of two set is :{set_diff}')\n"
   ]
  },
  {
   "cell_type": "markdown",
   "id": "2b16da78",
   "metadata": {},
   "source": [
    "3 .Sets are Mutable\n",
    "\n",
    "\n",
    "\n",
    "Like Lists, Sets are mutable.\n",
    "\n",
    "\n",
    "We can add new items to set.\n",
    "We can delete existing items in set.\n",
    "However, we cannot change existing item to another item in a set.\n"
   ]
  },
  {
   "cell_type": "code",
   "execution_count": 44,
   "id": "e5d29d51",
   "metadata": {},
   "outputs": [
    {
     "name": "stdout",
     "output_type": "stream",
     "text": [
      "{'f', 'd', 'b,', 'a'}\n"
     ]
    }
   ],
   "source": [
    "# Given Set, verify Sets are mutable\n",
    "# Hint: .add(item)\n",
    "\n",
    "sets=('a', 'b,','d')\n",
    "item=set(sets)\n",
    "item.add('f')\n",
    "print(item)\n",
    "\n",
    "     "
   ]
  },
  {
   "cell_type": "markdown",
   "id": "f1236827",
   "metadata": {},
   "source": [
    "5 Loop Sets\n",
    "\n",
    "\n",
    ".\n",
    "Similar to Strings, List, Tuple, you can also loop through list items using a for loop.\n",
    "\n",
    "\n",
    "\n",
    "\n"
   ]
  },
  {
   "cell_type": "code",
   "execution_count": 45,
   "id": "d9e4ac9f",
   "metadata": {},
   "outputs": [],
   "source": [
    "\n",
    "# Initialize Set and print set items one by one using for loop."
   ]
  },
  {
   "cell_type": "code",
   "execution_count": 51,
   "id": "1b960bc5",
   "metadata": {},
   "outputs": [
    {
     "name": "stdout",
     "output_type": "stream",
     "text": [
      "Kiwi\n",
      "Apple\n",
      "Orange\n",
      "Mango\n",
      "grapes\n"
     ]
    }
   ],
   "source": [
    "fruits={'Mango','Apple','grapes','Orange','Kiwi'}\n",
    "for i in fruits:\n",
    " print(i)"
   ]
  },
  {
   "cell_type": "markdown",
   "id": "a1027592",
   "metadata": {},
   "source": [
    "6. Set Comprehension\n",
    "\n",
    "\n",
    "\n",
    "As seen in List chapter, we can also use concept of List comprehension in set as well.\n",
    "Q. Given List = ['item1', 1, 2, 'item4'], create Set using list items using Set comprehension.\n",
    "\n",
    "output: {'item4', 1, 2, 'item1'}\n",
    "\n"
   ]
  },
  {
   "cell_type": "code",
   "execution_count": 55,
   "id": "9acce112",
   "metadata": {},
   "outputs": [
    {
     "name": "stdout",
     "output_type": "stream",
     "text": [
      "{1, 2, 'item4', 'item1'}\n"
     ]
    }
   ],
   "source": [
    "# Initialize list \n",
    "# create set using set comprehension\n",
    "\n",
    "sample_list = ['item1', 1, 2, 'item4']\n",
    "set_compression={data for data in sample_list}\n",
    "print(set_compression)"
   ]
  },
  {
   "cell_type": "code",
   "execution_count": 64,
   "id": "ccfa1f0f",
   "metadata": {},
   "outputs": [
    {
     "name": "stdout",
     "output_type": "stream",
     "text": [
      "[1, 2, 3, 6, 7, 8, 9]\n"
     ]
    }
   ],
   "source": [
    "# Write a python program to sort Set items in ascending order.\n",
    "\n",
    "#sorted(<iterable>, reverse=False\n",
    "             \n",
    "value={1,7, 2,8, 6,3,9}\n",
    "values=sorted(value)\n",
    "print(values)"
   ]
  },
  {
   "cell_type": "code",
   "execution_count": 72,
   "id": "99a0f8fb",
   "metadata": {},
   "outputs": [
    {
     "name": "stdout",
     "output_type": "stream",
     "text": [
      "[9, 8, 7, 6, 3, 2, 1]\n"
     ]
    }
   ],
   "source": [
    "value={1,7, 2,8, 6,3,9}\n",
    "values=sorted(value, reverse=True)\n",
    "print(values)"
   ]
  },
  {
   "cell_type": "code",
   "execution_count": null,
   "id": "d36a3d81",
   "metadata": {},
   "outputs": [],
   "source": []
  }
 ],
 "metadata": {
  "kernelspec": {
   "display_name": "Python 3 (ipykernel)",
   "language": "python",
   "name": "python3"
  },
  "language_info": {
   "codemirror_mode": {
    "name": "ipython",
    "version": 3
   },
   "file_extension": ".py",
   "mimetype": "text/x-python",
   "name": "python",
   "nbconvert_exporter": "python",
   "pygments_lexer": "ipython3",
   "version": "3.10.9"
  }
 },
 "nbformat": 4,
 "nbformat_minor": 5
}
