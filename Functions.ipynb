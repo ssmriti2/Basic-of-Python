{
 "cells": [
  {
   "cell_type": "markdown",
   "id": "d91769c9",
   "metadata": {},
   "source": [
    "Python Functions\n",
    "\n",
    "\n",
    "\n",
    "\n",
    "A function is a reusable block of code which only runs when it is called.\n",
    "\n",
    "\n",
    "\n",
    "You can pass data, known as parameters, into a function.\n",
    "\n",
    "\n",
    "\n",
    "\n",
    "A function can return data as result.\n",
    "\n",
    "\n",
    "\n",
    "Function allow us to not have to repeatedly write the same code again and again.\n",
    "\n",
    "\n",
    "\n",
    "\n",
    "\n",
    "\n",
    "Recall len() function that we used to compute length of iterables such as String, List, Tuple, Set, Dictionary.\n",
    "Generally, we create a function and write a block of code that will be used repeatedly in future.\n",
    "\n",
    "\n",
    "\n",
    "\n",
    "\n",
    "When to use functions?\n",
    "\n",
    "Use functions when you plan on using a block of code multiple times.\n",
    "Types:\n",
    "\n",
    "\n",
    "\n",
    "\n",
    "\n",
    "Pre-defined functions\n",
    "User defined functions"
   ]
  },
  {
   "cell_type": "markdown",
   "id": "a529a10b",
   "metadata": {},
   "source": [
    "1. Anatomy of function\n",
    "\n",
    "\n",
    "\n",
    "\n",
    "\n",
    "\n",
    "def keyword is used for creating a uder-defined function in python.\n",
    "syntax:\n",
    "\n",
    "\n",
    "\n",
    "\n",
    "\n",
    "\n",
    "function begins with def keyword followed by function name and parenthesis ()\n",
    "Function has body that starts with colon (:) and is indented.\n",
    "\n",
    "\n",
    "\n",
    "\n",
    "\n",
    "\n",
    "You can add documentation in a function also called as doc string\n",
    "\n",
    "\n",
    "\n",
    "\n",
    "\n",
    "\n",
    "\n",
    "\n",
    "\n",
    "The keyword return exits the function (and is optional to have)\n",
    "\n",
    "\n",
    "\n",
    "\n",
    "\n",
    "\n",
    "\n",
    "\n",
    "def func_name(parameters):\n",
    "  \"\"\"\n",
    "  \n",
    "  \n",
    "  \n",
    "  \n",
    "  \n",
    "  documenation goes here\n",
    "  \"\"\"\n",
    "\n",
    "  ## your code logic goes here\n",
    "  ## return statement goes here\n",
    "Image Source"
   ]
  },
  {
   "cell_type": "markdown",
   "id": "24971ae0",
   "metadata": {},
   "source": [
    "without return statement.\n",
    "\n",
    "\n",
    "\n",
    "\n",
    "Function without return statement are called Void function.\n",
    "\n",
    "\n",
    "\n",
    "\n",
    "\n",
    "\n",
    "\n",
    "Syntax:\n",
    "\n",
    "\n",
    "\n",
    "\n",
    "\n",
    "\n",
    "\n",
    "def function_name():\n",
    "\n",
    "\n",
    "\n",
    "\n",
    "\n",
    "  \"\"\"\n",
    "  doc string goes here (optional)\n",
    "  \"\"\"\n",
    "  # code logic goes"
   ]
  },
  {
   "cell_type": "code",
   "execution_count": 14,
   "id": "19c7b60c",
   "metadata": {},
   "outputs": [
    {
     "name": "stdout",
     "output_type": "stream",
     "text": [
      "enter the num1  78\n",
      "enter the num2  56\n",
      "the greater number is 78\n"
     ]
    }
   ],
   "source": [
    "# Write a python function that takes two integer input from user and print greater number. (no parameter, no return)\n",
    "\n",
    "def greater():\n",
    "   input1=int(input('enter the num1  '))\n",
    "   input2=int(input('enter the num2  '))\n",
    "   if input1 > input2:\n",
    "    print(f'the greater number is {input1}')\n",
    "   else:\n",
    "    print(f'The greater number is {input2}')\n",
    "greater()"
   ]
  },
  {
   "cell_type": "markdown",
   "id": "f95eb541",
   "metadata": {},
   "source": [
    "\n",
    "\n",
    " 3. Create function with parameters and without return statement\n",
    " \n",
    " \n",
    " \n",
    " \n",
    " \n",
    "def function_name(parameter):\n",
    "\n",
    "\n",
    "\n",
    "\n",
    "\n",
    "  \"\"\"\n",
    "  \n",
    "  \n",
    "  \n",
    "  \n",
    "  doc string goes here (optional)\n",
    "  \n",
    "  \n",
    "  \n",
    "  \n",
    "  \n",
    "  \n",
    "  \n",
    "  \"\"\"\n",
    "  \n",
    "  \n",
    "  \n",
    "  \n",
    "  # code logic goes"
   ]
  },
  {
   "cell_type": "code",
   "execution_count": 19,
   "id": "c8c9cfac",
   "metadata": {},
   "outputs": [
    {
     "name": "stdout",
     "output_type": "stream",
     "text": [
      "enter the number45\n",
      "enter the num290\n",
      "greater one is 90\n"
     ]
    }
   ],
   "source": [
    "# Write a python function that takes two integer input from user pass them as argument to function and print greater number\n",
    "\n",
    "def find_greater(num1, num2):\n",
    "\n",
    "    if num1 > num2:\n",
    "     print(f'greater one is {num1}')\n",
    "    else:\n",
    "     print(f'greater one is {num2}')\n",
    "    \n",
    "num1 = int(input('enter the number'))\n",
    "num2 = int(input('enter the num2'))\n",
    "    \n",
    "find_greater(num1, num2)"
   ]
  },
  {
   "cell_type": "markdown",
   "id": "f7e22688",
   "metadata": {},
   "source": [
    "4. Create function without parameters and with return statement\n",
    "\n",
    "\n",
    "\n",
    "\n",
    "Functions with return statement are called Fruitful function.\n",
    "\n",
    "\n",
    "\n",
    "\n",
    "\n",
    "def function_name():\n",
    "    \n",
    "    \n",
    "    \n",
    "    \n",
    "  \"\"\"\n",
    "  doc string goes here (optional)\n",
    "  \n",
    "  \n",
    "  \n",
    "  \n",
    "  \n",
    "  \"\"\"\n",
    "  # code logic goes\n",
    "    \n",
    "    \n",
    "    \n",
    "    \n",
    "    \n",
    "    \n",
    "\n",
    "  # return <item>\n"
   ]
  },
  {
   "cell_type": "code",
   "execution_count": 21,
   "id": "5075df96",
   "metadata": {},
   "outputs": [
    {
     "name": "stdout",
     "output_type": "stream",
     "text": [
      "enter num134\n",
      "enter num212\n",
      "greater is num1\n"
     ]
    }
   ],
   "source": [
    "# Write a python function that takes two integer input from user inside function and return greater number from function. (no parameter) Hint: a if a > b else b\n",
    "\n",
    "\n",
    "def print_greater():\n",
    "    num1=int(input('enter num1 '))\n",
    "    num2=int(input('enter num2 '))\n",
    "    \n",
    "    if num1 >num2:\n",
    "        return \"greater is num1\"\n",
    "    else:\n",
    "        return \"greater is num2\"\n",
    "result=print_greater()\n",
    "print(result)"
   ]
  },
  {
   "cell_type": "markdown",
   "id": "28ea499e",
   "metadata": {},
   "source": [
    "5. Create function with parameters and with return statement"
   ]
  },
  {
   "cell_type": "markdown",
   "id": "4dc39df5",
   "metadata": {},
   "source": [
    "def function_name(parameter):\n",
    "  \"\"\"\n",
    "  doc string goes here (optional)\n",
    "  \"\"\"\n",
    "  # code logic goes\n",
    "\n",
    "  # return <item>"
   ]
  },
  {
   "cell_type": "code",
   "execution_count": 3,
   "id": "26f6bce8",
   "metadata": {},
   "outputs": [
    {
     "name": "stdout",
     "output_type": "stream",
     "text": [
      "Enter the num1:90\n",
      "Enter the num2:23\n",
      "greater is num1\n"
     ]
    }
   ],
   "source": [
    "#Write a python function that takes two integer as a argument and return greater number from function.\n",
    "\n",
    "def greater(num1, num2):\n",
    "    if num1 > num2:\n",
    "        return \"greater is num1\"\n",
    "    else:\n",
    "        return \"greater is num2\"\n",
    "num1=int(input('Enter the num1:'))\n",
    "num2=int(input('Enter the num2:'))\n",
    "\n",
    "result=greater(num1, num2)\n",
    "print(result)"
   ]
  },
  {
   "cell_type": "markdown",
   "id": "da7a29de",
   "metadata": {},
   "source": [
    "6. Local Variable vs Global Variable"
   ]
  },
  {
   "cell_type": "raw",
   "id": "f57302fe",
   "metadata": {},
   "source": [
    "                        Local Variables    \t                                 Global Variables\n",
    "    \n",
    "    \n",
    "    \n",
    "Scope\t         Limited to the function or block                             Accessible from any part of the progra\n",
    "\n",
    "\n",
    "Declaration\t     Defined within a function or block                            Defined outside any function or block\n",
    "\n",
    "\n",
    "Accessibility\t  Only within the function or block                            Anywhere in the progra\n",
    "\n",
    "\n",
    "Lifetime\t       Created when function/block is executed\t                    Exist until the program terminates\n",
    "\n",
    "Naming Conflicts\tAvoids naming conflicts within functions\t                rone to potential naming conflicts\n",
    "\n",
    "\n",
    "Memory Allocation\tAllocated when function/block is executed\t               Allocated when the program starts\n",
    "\n",
    "\n",
    "Initialization\t     Initialized when assigned a value\t                        Initialized when assigned a valu\n",
    "\n",
    "\n",
    "Modifiability\t        Can be modified within the function/block\t           Can be modified from any part of the program\n",
    "\n",
    "\n",
    "Accessing and Modifying\t    Directly using the variable name\t                Using the global keyword\n"
   ]
  },
  {
   "cell_type": "code",
   "execution_count": 11,
   "id": "7f187baa",
   "metadata": {},
   "outputs": [
    {
     "name": "stdout",
     "output_type": "stream",
     "text": [
      "10\n",
      "50\n"
     ]
    }
   ],
   "source": [
    "#Local Variables\n",
    "## write your program here\n",
    "def my_function():\n",
    "    x = 10  # local variable\n",
    "    print(x)\n",
    "\n",
    "my_function()  # Output: 10\n",
    "print(x)      # Error: NameError: name 'x' is not defined\n"
   ]
  },
  {
   "cell_type": "code",
   "execution_count": 7,
   "id": "6c543f72",
   "metadata": {},
   "outputs": [
    {
     "name": "stdout",
     "output_type": "stream",
     "text": [
      "I am from function:  15\n",
      "I am from outside of function:  15\n"
     ]
    }
   ],
   "source": [
    "# Global Variables\n",
    "#write your code \n",
    "\n",
    "## write your program here\n",
    "\n",
    "x = 10  # global variable\n",
    "\n",
    "def my_function():\n",
    "    global x # global keyword to update global variable\n",
    "    x += 5\n",
    "    print(\"I am from function: \", x)\n",
    "\n",
    "my_function()  # Output: 15\n",
    "\n",
    "print(\"I am from outside of function: \", x)      # Output: 15"
   ]
  },
  {
   "cell_type": "code",
   "execution_count": 8,
   "id": "ebf8261f",
   "metadata": {},
   "outputs": [
    {
     "name": "stdout",
     "output_type": "stream",
     "text": [
      "The function inside it is :25\n",
      "The value is 10\n"
     ]
    }
   ],
   "source": [
    "#program2\n",
    "\n",
    "x=10 #global variable\n",
    "\n",
    "def my_function():\n",
    "    x=12 #local variable\n",
    "    x+=13\n",
    "    \n",
    "    print(f'The function inside it is :{x}')\n",
    "    \n",
    "my_function()\n",
    "print(f'The value is {x}')"
   ]
  },
  {
   "cell_type": "code",
   "execution_count": 10,
   "id": "3f6b3f9c",
   "metadata": {},
   "outputs": [
    {
     "name": "stdout",
     "output_type": "stream",
     "text": [
      "The function inside it is :23\n",
      "The value is 23\n"
     ]
    }
   ],
   "source": [
    "#program3\n",
    "\n",
    "x=10 #global variable\n",
    "\n",
    "def my_function():\n",
    "    \n",
    "    global x\n",
    "    x+=13\n",
    "    \n",
    "    print(f'The function inside it is :{x}')\n",
    "    \n",
    "my_function()\n",
    "print(f'The value is {x}')"
   ]
  },
  {
   "cell_type": "code",
   "execution_count": 21,
   "id": "83b1d142",
   "metadata": {},
   "outputs": [
    {
     "name": "stdout",
     "output_type": "stream",
     "text": [
      "250\n",
      "50\n"
     ]
    }
   ],
   "source": [
    "def my_func():\n",
    "    x = 50\n",
    "    x += 200\n",
    "    print(x)\n",
    "\n",
    "my_func()\n",
    "print(x)\n"
   ]
  },
  {
   "cell_type": "raw",
   "id": "8e4b856d",
   "metadata": {},
   "source": [
    "7. Arguments vs Parameters"
   ]
  },
  {
   "cell_type": "raw",
   "id": "05cfe9d5",
   "metadata": {},
   "source": [
    "Concept\t             Parameters\t                                                                Arguments\n",
    "Definition\t    Variables listed in the function's header\t                             Actual values passed to a function\n",
    "\n",
    "Purpose\t        Define input placeholders in a function\t                            Provide data for the function to operate on\n",
    "\n",
    "Scope\t        Local to the function\t                                                 Specific to each function call\n",
    "\n",
    "Usage\t        Perform operations or calculations\t                                Act as input for the function's computations\n",
    "\n",
    "\n",
    "Matching\t    Must match the number and order\t                                 Must match the parameters in the function call"
   ]
  },
  {
   "cell_type": "markdown",
   "id": "3ece16c7",
   "metadata": {},
   "source": [
    "8. Arbitrary Positional Arguments, *args\n",
    "\n",
    "\n",
    "\n",
    "\n",
    "Positional arguments are passed to a function based on their position or order in the function call.\n",
    "\n",
    "\n",
    "\n",
    "\n",
    "\n",
    "\n",
    "The arguments we passed to a function till now are all positional arguments.\n",
    "\n",
    "\n",
    "\n",
    "\n",
    "\n",
    "\n",
    "\n",
    "The *args syntax allows a function to accept any number of positional arguments.\n",
    "\n",
    "\n",
    "\n",
    "\n",
    "\n",
    "\n",
    "\n",
    "The variable type of args will be of Tuple.\n",
    "\n",
    "\n",
    "\n",
    "\n",
    "\n",
    "\n",
    "\n",
    "def my_function(*args):\n",
    "   \n",
    "    \n",
    "    for arg in args:\n",
    "        \n",
    "        \n",
    "         \n",
    "        \n",
    "        print(arg)\n",
    "        \n",
    "        \n",
    "        \n",
    "        \n",
    "        \n",
    "\n",
    "my_function(1, 2, 3) \n",
    "\n",
    "\n",
    "\n",
    "# Output: 1 2 3\n",
    "my_function('Hello', 'Hi') \n",
    "\n",
    "\n",
    "\n",
    "\n",
    "# Output: Hello Hi"
   ]
  },
  {
   "cell_type": "code",
   "execution_count": 28,
   "id": "a280dc06",
   "metadata": {},
   "outputs": [
    {
     "name": "stdout",
     "output_type": "stream",
     "text": [
      "Ram\n",
      "Shyam\n",
      "Hari\n"
     ]
    }
   ],
   "source": [
    "#program\n",
    "\n",
    "def my_function(name):\n",
    "    for i in name:\n",
    "      print(i)\n",
    "    \n",
    "name=(\"Ram\", \"Shyam\",\"Hari\")\n",
    "my_function(name)\n",
    " \n",
    "    "
   ]
  },
  {
   "cell_type": "code",
   "execution_count": 29,
   "id": "5823d566",
   "metadata": {},
   "outputs": [
    {
     "name": "stdout",
     "output_type": "stream",
     "text": [
      "2\n",
      "3\n",
      "4\n",
      "KTM\n",
      "PKR\n"
     ]
    }
   ],
   "source": [
    "def my_function(*args):\n",
    "    for i in args:\n",
    "        print(i)\n",
    "my_function(2,3,4)\n",
    "my_function(\"KTM\",'PKR')\n"
   ]
  },
  {
   "cell_type": "code",
   "execution_count": 38,
   "id": "e1d66a2a",
   "metadata": {},
   "outputs": [
    {
     "name": "stdout",
     "output_type": "stream",
     "text": [
      "720\n"
     ]
    }
   ],
   "source": [
    "# Write a python function that return multiplication of all the numbers passed by user as a argument.\n",
    "\n",
    "def my_function(*args):\n",
    "    mul=1\n",
    "    \n",
    "    for i in args:\n",
    "     mul*=i\n",
    "    return mul\n",
    "    \n",
    "    \n",
    "result=my_function(2,3,4,5,6)\n",
    "print(result)"
   ]
  },
  {
   "cell_type": "code",
   "execution_count": 158,
   "id": "ee11e145",
   "metadata": {},
   "outputs": [
    {
     "name": "stdout",
     "output_type": "stream",
     "text": [
      "2*1=2\n",
      "2*2=4\n",
      "2*3=6\n",
      "2*4=8\n",
      "2*5=10\n",
      "2*6=12\n",
      "2*7=14\n",
      "2*8=16\n",
      "2*9=18\n",
      "2*10=20\n",
      "20\n"
     ]
    }
   ],
   "source": [
    "\n",
    "def my_function(number):\n",
    "    \n",
    "    for i in range(10):\n",
    "     i+=1\n",
    "     mul=i*number\n",
    "     print(f'2*{i}={mul}')\n",
    "    return mul\n",
    "\n",
    "result=my_function(2)\n",
    "print(result)\n"
   ]
  },
  {
   "cell_type": "code",
   "execution_count": 161,
   "id": "029f09dd",
   "metadata": {},
   "outputs": [
    {
     "name": "stdout",
     "output_type": "stream",
     "text": [
      "5*1=5\n",
      "5*2=10\n",
      "5*3=15\n",
      "5*4=20\n",
      "5*5=25\n",
      "5*6=30\n",
      "5*7=35\n",
      "5*8=40\n",
      "5*9=45\n",
      "5*10=50\n"
     ]
    },
    {
     "data": {
      "text/plain": [
       "50"
      ]
     },
     "execution_count": 161,
     "metadata": {},
     "output_type": "execute_result"
    }
   ],
   "source": [
    " def my_function(number):\n",
    "    for i in range(10):\n",
    "        i+=1\n",
    "        mul=i*number\n",
    "        print(f'5*{i}={mul}')\n",
    "    return mul\n",
    "\n",
    "my_function(5)\n"
   ]
  },
  {
   "cell_type": "markdown",
   "id": "d8808d56",
   "metadata": {},
   "source": [
    "9. Keyword Arguments\n",
    "\n",
    "\n",
    "\n",
    "Keyword arguments in Python allow you to pass arguments to a function using their corresponding parameter names.\n",
    "\n",
    "\n",
    "\n",
    "\n",
    "\n",
    "Instead of relying on the order of the arguments, you specify the argument name along with its value when calling the function.\n",
    "\n",
    "\n",
    "\n",
    "\n",
    "\n",
    "\n",
    "\n",
    "Key Benefit\n",
    "\n",
    "\n",
    "\n",
    "\n",
    "\n",
    "\n",
    "Clarity:\n",
    "\n",
    "\n",
    "\n",
    "\n",
    "\n",
    "\n",
    "makes function call more readable and self-explnatory.\n",
    "Order Independence:\n",
    "\n",
    "\n",
    "\n",
    "\n",
    "\n",
    "all you to provide the values in any order you prefer, as long as the parameter names are correctly matched."
   ]
  },
  {
   "cell_type": "raw",
   "id": "65eaf60f",
   "metadata": {},
   "source": [
    "Example:\n",
    "\n",
    "def greet(name, age):\n",
    "  \"\"\"\n",
    "  Function that greets to person.\n",
    "  \"\"\"\n",
    "  print(f\"Hi {name}. Your age is {age}\")\n",
    "\n",
    "\n",
    "greet(name='John', age=30) # ouput: Hi John. Your age is 30\n",
    "\n",
    "greet(age=10, name='Bob') # output: Hi Bob. Your age is 10"
   ]
  },
  {
   "cell_type": "code",
   "execution_count": 167,
   "id": "ac38bc33",
   "metadata": {},
   "outputs": [
    {
     "name": "stdout",
     "output_type": "stream",
     "text": [
      "Hi I am Aayesha and I am from KTM\n",
      "Hi I am Aarav and I am from PKR\n"
     ]
    }
   ],
   "source": [
    "## write your program here\n",
    "\n",
    "def greeting(name, place):\n",
    "\n",
    " print(f'Hi I am {name} and I am from {place}')\n",
    "\n",
    "greeting(name='Aayesha', place='KTM')\n",
    "greeting(name='Aarav', place='PKR')"
   ]
  },
  {
   "cell_type": "markdown",
   "id": "378c47f3",
   "metadata": {},
   "source": [
    "10. Arbitrary Keyword Arguments, kwargs**\n",
    "\n",
    "\n",
    "\n",
    "\n",
    "If you do not know how many keyword arguments that will be passed into your function, add two asterik: **.\n",
    "\n",
    "\n",
    "\n",
    "\n",
    "\n",
    "This way, the function will receive a dictionary of arguments, and can access items accordingly.\n",
    "\n",
    "\n",
    "\n",
    "\n",
    "\n",
    "\n",
    "Example:\n",
    "\n",
    "\n",
    "\n",
    "\n",
    "\n",
    "def my_function(**kwargs):\n",
    "\n",
    "\n",
    "\n",
    "\n",
    "    for key, value in kwargs.items():\n",
    "    \n",
    "    \n",
    "    \n",
    "        print(f\"{key}: {value}\")\n",
    "        \n",
    "        \n",
    "        \n",
    "\n",
    "greet(name='John', age=30) # ouput: Hi John. Your age is 30\n",
    "\n",
    "greet(age=10, name='Bob') # output: Hi Bob. Your age is 10"
   ]
  },
  {
   "cell_type": "code",
   "execution_count": 190,
   "id": "c765d2d8",
   "metadata": {
    "scrolled": true
   },
   "outputs": [
    {
     "name": "stdout",
     "output_type": "stream",
     "text": [
      " My name : Krisha\n",
      " My place : Australia\n",
      " My study : BE Computer\n",
      " My college : U-TEC\n"
     ]
    }
   ],
   "source": [
    "def my_function(**kwargs):\n",
    "    for key, value in kwargs.items():\n",
    "     print(f' My {key} : {value}')\n",
    "my_function(name='Krisha', place='Australia',study=\"BE Computer\", college=\"U-TEC\")\n",
    "      "
   ]
  },
  {
   "cell_type": "code",
   "execution_count": 193,
   "id": "6a515e29",
   "metadata": {},
   "outputs": [
    {
     "name": "stdout",
     "output_type": "stream",
     "text": [
      "name: Shreya\n",
      "age: 28\n",
      "height: 12cm\n",
      "study: bacleor\n",
      "program: BE Computer\n"
     ]
    }
   ],
   "source": [
    "def my_function(**kwargs):\n",
    "    for key, value in kwargs.items():\n",
    "        print(f'{key}: {value}')\n",
    "my_function(name='Shreya', age=28, height='12cm', study=\"bacleor\", program=\"BE Computer\")"
   ]
  },
  {
   "cell_type": "markdown",
   "id": "3523e81c",
   "metadata": {},
   "source": [
    "11. Default Parameter Value\n",
    "\n",
    "\n",
    "\n",
    "What if you do not want to pass arguments at the time of function call but function is expecting some parameters?"
   ]
  },
  {
   "cell_type": "code",
   "execution_count": 201,
   "id": "a5ff46ba",
   "metadata": {},
   "outputs": [
    {
     "name": "stdout",
     "output_type": "stream",
     "text": [
      "hi\n",
      "Where are you from\n",
      "She is such a brilliant girl\n"
     ]
    }
   ],
   "source": [
    "def my_function(msg=\"She is such a brilliant girl\"):\n",
    " print(msg)\n",
    "my_function('hi')\n",
    "my_function(\"Where are you from\")\n",
    "my_function()"
   ]
  },
  {
   "cell_type": "markdown",
   "id": "680c7b26",
   "metadata": {},
   "source": [
    "12. Pass Keyword\n",
    "\n",
    "\n",
    "\n",
    "functions definition cannot be empty.\n",
    "\n",
    "\n",
    "\n",
    "\n",
    "\n",
    "Q. What if you only want to define a function and write code logic later?\n",
    "\n",
    "\n",
    "\n",
    "\n",
    "\n",
    "In such scenario we can use pass keyword, which simply acts as a placeholder for code logic to be added later.\n",
    "\n",
    "\n",
    "\n",
    "\n",
    "\n",
    "def function1():\n",
    "  pass\n",
    "\n",
    "\n",
    "\n",
    "\n",
    "def function2():\n",
    "  pass\n",
    "\n",
    "\n",
    "\n",
    "\n",
    "def function3():\n",
    "  pass\n",
    "\n",
    "\n",
    "\n",
    "\n",
    "\n",
    "\n",
    "Now, we know user defined functions, How functions are created, Let's Revisit some pre-defined functions."
   ]
  },
  {
   "cell_type": "code",
   "execution_count": 225,
   "id": "89352774",
   "metadata": {},
   "outputs": [
    {
     "name": "stdout",
     "output_type": "stream",
     "text": [
      "my name is Krisha and I read in  U-TEC\n",
      "\n",
      "\n",
      "Group:AB\n",
      "Faculty:Science and Technology\n",
      "Program:Be Computer\n",
      "Level:Bachelor\n"
     ]
    }
   ],
   "source": [
    "def My_function():\n",
    "    pass\n",
    "\n",
    "def next_function(name, college):\n",
    " print(f'my name is {name} and I read in  {college}')\n",
    "next_function(name='Krisha', college='U-TEC')\n",
    "\n",
    "print('\\n')\n",
    "\n",
    "def function(**kwargs):\n",
    " for key, value in kwargs.items():\n",
    "  print(f'{key}:{value}')\n",
    "function(Group=\"AB\", Faculty='Science and Technology', Program=\"Be Computer\", Level=\"Bachelor\")\n",
    "   \n",
    "    \n",
    "    \n",
    "    \n"
   ]
  },
  {
   "cell_type": "raw",
   "id": "4c840f7e",
   "metadata": {},
   "source": [
    "13. Recall Pre-defined functions\n",
    "Pre-defined functions, also know as built-in functions, are functions that are included in the Python programming language by default.\n",
    "Function\t Description\n",
    "\n",
    "print()\t Outputs messages or values to the console.\n",
    "\n",
    "len()\t Returns the length of a sequence (e.g., string, list, tuple).\n",
    "\n",
    "type()\t Returns the type of an object.\n",
    "\n",
    "input()\t Reads user input from the console.\n",
    "\n",
    "range()\t Generates a sequence of numbers within a specified range.\n",
    "\n",
    "sum()\t Calculates the sum of all the values in an iterable.\n",
    "\n",
    "max()\t Returns the maximum value in an iterable.\n",
    "\n",
    "min()\t Returns the minimum value in an iterable.\n",
    "\n",
    "abs()\t Returns the absolute value of a number.\n",
    "\n",
    "round()\t Rounds a number to a specified number of decimal places.\n",
    "\n",
    "str()\t Converts an object to a string representation\n",
    "\n",
    "int()\t Converts a string or a number to an integer.\n",
    "\n",
    "float()\t Converts a string or a number to a floating-point number.\n",
    "\n",
    "list()\t Converts an iterable to a list.\n",
    "\n",
    "dict()\t Creates a new dictionary object.\n",
    "\n",
    "sorted()\t Returns a new sorted list from the items in an iterable\n",
    "\n",
    "zip()\t Creates an iterator that aggregates elements from multiple iterables.\n",
    "\n",
    "enumerate()\t Returns an iterator of tuples containing indices and values from an iterable.\n",
    "\n",
    "help()\t Displays information and documentation about Python objects and modules\n",
    "\n",
    "dir()\t Returns a list of names in the current local scope or a given object.\n"
   ]
  },
  {
   "cell_type": "code",
   "execution_count": 227,
   "id": "ed33a339",
   "metadata": {},
   "outputs": [
    {
     "name": "stdout",
     "output_type": "stream",
     "text": [
      "Python is the easy Programming Languages\n",
      "4\n"
     ]
    }
   ],
   "source": [
    "#print\n",
    "\n",
    "print('Python is the easy Programming Languages')\n",
    "\n",
    "#len\n",
    "item=('table','chair','desk','bench')\n",
    "print(len(item))\n",
    "\n"
   ]
  },
  {
   "cell_type": "code",
   "execution_count": 236,
   "id": "88d8abb4",
   "metadata": {},
   "outputs": [
    {
     "name": "stdout",
     "output_type": "stream",
     "text": [
      "<class 'list'>\n"
     ]
    }
   ],
   "source": [
    "#type\n",
    "item=('table','chair','desk','bench')\n",
    "\n",
    "#items=set(item)\n",
    "\n",
    "items=list(item)\n",
    "print(type(items))\n"
   ]
  },
  {
   "cell_type": "code",
   "execution_count": 238,
   "id": "9c11c0b5",
   "metadata": {},
   "outputs": [
    {
     "name": "stdout",
     "output_type": "stream",
     "text": [
      "Enter the number:34\n"
     ]
    }
   ],
   "source": [
    "#input\n",
    "\n",
    "num=input(\"Enter the number:\")"
   ]
  },
  {
   "cell_type": "code",
   "execution_count": 239,
   "id": "564067e8",
   "metadata": {},
   "outputs": [
    {
     "name": "stdout",
     "output_type": "stream",
     "text": [
      "0\n",
      "1\n",
      "2\n",
      "3\n",
      "4\n",
      "5\n",
      "6\n",
      "7\n",
      "8\n",
      "9\n"
     ]
    }
   ],
   "source": [
    "#range\n",
    "\n",
    "for i in range (10):\n",
    "    print(i)"
   ]
  },
  {
   "cell_type": "code",
   "execution_count": 246,
   "id": "49931978",
   "metadata": {},
   "outputs": [
    {
     "name": "stdout",
     "output_type": "stream",
     "text": [
      "46\n"
     ]
    }
   ],
   "source": [
    "#sum\n",
    "\n",
    "a=12\n",
    "b=34\n",
    "c= sum([a,b])\n",
    "print(c)"
   ]
  },
  {
   "cell_type": "code",
   "execution_count": 251,
   "id": "9314bc4b",
   "metadata": {},
   "outputs": [
    {
     "name": "stdout",
     "output_type": "stream",
     "text": [
      "12\n"
     ]
    }
   ],
   "source": [
    "#MAX\n",
    "#min\n",
    "\n",
    "\n",
    "\n",
    "a=(12,25,58,69,90)\n",
    "\n",
    "c=max(a)\n",
    "d=min(a)\n",
    "\n",
    "print(d)"
   ]
  },
  {
   "cell_type": "code",
   "execution_count": 257,
   "id": "4da252fe",
   "metadata": {},
   "outputs": [
    {
     "name": "stdout",
     "output_type": "stream",
     "text": [
      "(12, 90, 12)\n"
     ]
    }
   ],
   "source": [
    "\n",
    "#abs\n",
    "f=(-12, -90, 12)\n",
    "e=tuple (abs(x) for x in f)\n",
    "print(e)"
   ]
  },
  {
   "cell_type": "code",
   "execution_count": 262,
   "id": "bd8263f4",
   "metadata": {},
   "outputs": [
    {
     "name": "stdout",
     "output_type": "stream",
     "text": [
      "['kiwi', 'apple', 'banana', 'orange']\n"
     ]
    }
   ],
   "source": [
    "#shorted\n",
    "original_list = [\"apple\", \"banana\", \"orange\", \"kiwi\"]\n",
    "sorted_list = sorted(original_list, key=len, reverse=False)\n",
    "print(sorted_list)"
   ]
  },
  {
   "cell_type": "code",
   "execution_count": 263,
   "id": "4ee02f14",
   "metadata": {},
   "outputs": [
    {
     "name": "stdout",
     "output_type": "stream",
     "text": [
      "(1, 'a')\n",
      "(2, 'b')\n",
      "(3, 'c')\n"
     ]
    }
   ],
   "source": [
    "\n",
    "#zip\n",
    "list1 = [1, 2, 3]\n",
    "list2 = ['a', 'b', 'c']\n",
    "\n",
    "zipped = zip(list1, list2)\n",
    "\n",
    "for item in zipped:\n",
    "    print(item)\n"
   ]
  },
  {
   "cell_type": "code",
   "execution_count": 265,
   "id": "efaa1e19",
   "metadata": {},
   "outputs": [
    {
     "name": "stdout",
     "output_type": "stream",
     "text": [
      "Index: 0, Fruit: apple\n",
      "Index: 1, Fruit: banana\n",
      "Index: 2, Fruit: orange\n",
      "Index: 3, Fruit: mango\n"
     ]
    }
   ],
   "source": [
    "#enumerate\n",
    "fruits = ['apple', 'banana', 'orange','mango']\n",
    "\n",
    "for index, fruit in enumerate(fruits):\n",
    "    print(f'Index: {index}, Fruit: {fruit}')\n"
   ]
  },
  {
   "cell_type": "code",
   "execution_count": 266,
   "id": "1d250d92",
   "metadata": {},
   "outputs": [
    {
     "name": "stdout",
     "output_type": "stream",
     "text": [
      "['__add__', '__class__', '__class_getitem__', '__contains__', '__delattr__', '__delitem__', '__dir__', '__doc__', '__eq__', '__format__', '__ge__', '__getattribute__', '__getitem__', '__gt__', '__hash__', '__iadd__', '__imul__', '__init__', '__init_subclass__', '__iter__', '__le__', '__len__', '__lt__', '__mul__', '__ne__', '__new__', '__reduce__', '__reduce_ex__', '__repr__', '__reversed__', '__rmul__', '__setattr__', '__setitem__', '__sizeof__', '__str__', '__subclasshook__', 'append', 'clear', 'copy', 'count', 'extend', 'index', 'insert', 'pop', 'remove', 'reverse', 'sort']\n"
     ]
    }
   ],
   "source": [
    "my_list = [1, 2, 3]\n",
    "print(dir(my_list))\n"
   ]
  },
  {
   "cell_type": "code",
   "execution_count": 267,
   "id": "ca861b4f",
   "metadata": {},
   "outputs": [
    {
     "name": "stdout",
     "output_type": "stream",
     "text": [
      "Help on built-in function len in module builtins:\n",
      "\n",
      "len(obj, /)\n",
      "    Return the number of items in a container.\n",
      "\n"
     ]
    }
   ],
   "source": [
    "help(len)\n"
   ]
  },
  {
   "cell_type": "code",
   "execution_count": 268,
   "id": "4817dcef",
   "metadata": {},
   "outputs": [
    {
     "name": "stdout",
     "output_type": "stream",
     "text": [
      "Help on built-in function len in module builtins:\n",
      "\n",
      "len(obj, /)\n",
      "    Return the number of items in a container.\n",
      "\n"
     ]
    }
   ],
   "source": [
    "help(len)\n"
   ]
  },
  {
   "cell_type": "code",
   "execution_count": 269,
   "id": "cb204aee",
   "metadata": {},
   "outputs": [
    {
     "name": "stdout",
     "output_type": "stream",
     "text": [
      "Help on built-in module math:\n",
      "\n",
      "NAME\n",
      "    math\n",
      "\n",
      "DESCRIPTION\n",
      "    This module provides access to the mathematical functions\n",
      "    defined by the C standard.\n",
      "\n",
      "FUNCTIONS\n",
      "    acos(x, /)\n",
      "        Return the arc cosine (measured in radians) of x.\n",
      "        \n",
      "        The result is between 0 and pi.\n",
      "    \n",
      "    acosh(x, /)\n",
      "        Return the inverse hyperbolic cosine of x.\n",
      "    \n",
      "    asin(x, /)\n",
      "        Return the arc sine (measured in radians) of x.\n",
      "        \n",
      "        The result is between -pi/2 and pi/2.\n",
      "    \n",
      "    asinh(x, /)\n",
      "        Return the inverse hyperbolic sine of x.\n",
      "    \n",
      "    atan(x, /)\n",
      "        Return the arc tangent (measured in radians) of x.\n",
      "        \n",
      "        The result is between -pi/2 and pi/2.\n",
      "    \n",
      "    atan2(y, x, /)\n",
      "        Return the arc tangent (measured in radians) of y/x.\n",
      "        \n",
      "        Unlike atan(y/x), the signs of both x and y are considered.\n",
      "    \n",
      "    atanh(x, /)\n",
      "        Return the inverse hyperbolic tangent of x.\n",
      "    \n",
      "    ceil(x, /)\n",
      "        Return the ceiling of x as an Integral.\n",
      "        \n",
      "        This is the smallest integer >= x.\n",
      "    \n",
      "    comb(n, k, /)\n",
      "        Number of ways to choose k items from n items without repetition and without order.\n",
      "        \n",
      "        Evaluates to n! / (k! * (n - k)!) when k <= n and evaluates\n",
      "        to zero when k > n.\n",
      "        \n",
      "        Also called the binomial coefficient because it is equivalent\n",
      "        to the coefficient of k-th term in polynomial expansion of the\n",
      "        expression (1 + x)**n.\n",
      "        \n",
      "        Raises TypeError if either of the arguments are not integers.\n",
      "        Raises ValueError if either of the arguments are negative.\n",
      "    \n",
      "    copysign(x, y, /)\n",
      "        Return a float with the magnitude (absolute value) of x but the sign of y.\n",
      "        \n",
      "        On platforms that support signed zeros, copysign(1.0, -0.0)\n",
      "        returns -1.0.\n",
      "    \n",
      "    cos(x, /)\n",
      "        Return the cosine of x (measured in radians).\n",
      "    \n",
      "    cosh(x, /)\n",
      "        Return the hyperbolic cosine of x.\n",
      "    \n",
      "    degrees(x, /)\n",
      "        Convert angle x from radians to degrees.\n",
      "    \n",
      "    dist(p, q, /)\n",
      "        Return the Euclidean distance between two points p and q.\n",
      "        \n",
      "        The points should be specified as sequences (or iterables) of\n",
      "        coordinates.  Both inputs must have the same dimension.\n",
      "        \n",
      "        Roughly equivalent to:\n",
      "            sqrt(sum((px - qx) ** 2.0 for px, qx in zip(p, q)))\n",
      "    \n",
      "    erf(x, /)\n",
      "        Error function at x.\n",
      "    \n",
      "    erfc(x, /)\n",
      "        Complementary error function at x.\n",
      "    \n",
      "    exp(x, /)\n",
      "        Return e raised to the power of x.\n",
      "    \n",
      "    expm1(x, /)\n",
      "        Return exp(x)-1.\n",
      "        \n",
      "        This function avoids the loss of precision involved in the direct evaluation of exp(x)-1 for small x.\n",
      "    \n",
      "    fabs(x, /)\n",
      "        Return the absolute value of the float x.\n",
      "    \n",
      "    factorial(x, /)\n",
      "        Find x!.\n",
      "        \n",
      "        Raise a ValueError if x is negative or non-integral.\n",
      "    \n",
      "    floor(x, /)\n",
      "        Return the floor of x as an Integral.\n",
      "        \n",
      "        This is the largest integer <= x.\n",
      "    \n",
      "    fmod(x, y, /)\n",
      "        Return fmod(x, y), according to platform C.\n",
      "        \n",
      "        x % y may differ.\n",
      "    \n",
      "    frexp(x, /)\n",
      "        Return the mantissa and exponent of x, as pair (m, e).\n",
      "        \n",
      "        m is a float and e is an int, such that x = m * 2.**e.\n",
      "        If x is 0, m and e are both 0.  Else 0.5 <= abs(m) < 1.0.\n",
      "    \n",
      "    fsum(seq, /)\n",
      "        Return an accurate floating point sum of values in the iterable seq.\n",
      "        \n",
      "        Assumes IEEE-754 floating point arithmetic.\n",
      "    \n",
      "    gamma(x, /)\n",
      "        Gamma function at x.\n",
      "    \n",
      "    gcd(*integers)\n",
      "        Greatest Common Divisor.\n",
      "    \n",
      "    hypot(...)\n",
      "        hypot(*coordinates) -> value\n",
      "        \n",
      "        Multidimensional Euclidean distance from the origin to a point.\n",
      "        \n",
      "        Roughly equivalent to:\n",
      "            sqrt(sum(x**2 for x in coordinates))\n",
      "        \n",
      "        For a two dimensional point (x, y), gives the hypotenuse\n",
      "        using the Pythagorean theorem:  sqrt(x*x + y*y).\n",
      "        \n",
      "        For example, the hypotenuse of a 3/4/5 right triangle is:\n",
      "        \n",
      "            >>> hypot(3.0, 4.0)\n",
      "            5.0\n",
      "    \n",
      "    isclose(a, b, *, rel_tol=1e-09, abs_tol=0.0)\n",
      "        Determine whether two floating point numbers are close in value.\n",
      "        \n",
      "          rel_tol\n",
      "            maximum difference for being considered \"close\", relative to the\n",
      "            magnitude of the input values\n",
      "          abs_tol\n",
      "            maximum difference for being considered \"close\", regardless of the\n",
      "            magnitude of the input values\n",
      "        \n",
      "        Return True if a is close in value to b, and False otherwise.\n",
      "        \n",
      "        For the values to be considered close, the difference between them\n",
      "        must be smaller than at least one of the tolerances.\n",
      "        \n",
      "        -inf, inf and NaN behave similarly to the IEEE 754 Standard.  That\n",
      "        is, NaN is not close to anything, even itself.  inf and -inf are\n",
      "        only close to themselves.\n",
      "    \n",
      "    isfinite(x, /)\n",
      "        Return True if x is neither an infinity nor a NaN, and False otherwise.\n",
      "    \n",
      "    isinf(x, /)\n",
      "        Return True if x is a positive or negative infinity, and False otherwise.\n",
      "    \n",
      "    isnan(x, /)\n",
      "        Return True if x is a NaN (not a number), and False otherwise.\n",
      "    \n",
      "    isqrt(n, /)\n",
      "        Return the integer part of the square root of the input.\n",
      "    \n",
      "    lcm(*integers)\n",
      "        Least Common Multiple.\n",
      "    \n",
      "    ldexp(x, i, /)\n",
      "        Return x * (2**i).\n",
      "        \n",
      "        This is essentially the inverse of frexp().\n",
      "    \n",
      "    lgamma(x, /)\n",
      "        Natural logarithm of absolute value of Gamma function at x.\n",
      "    \n",
      "    log(...)\n",
      "        log(x, [base=math.e])\n",
      "        Return the logarithm of x to the given base.\n",
      "        \n",
      "        If the base not specified, returns the natural logarithm (base e) of x.\n",
      "    \n",
      "    log10(x, /)\n",
      "        Return the base 10 logarithm of x.\n",
      "    \n",
      "    log1p(x, /)\n",
      "        Return the natural logarithm of 1+x (base e).\n",
      "        \n",
      "        The result is computed in a way which is accurate for x near zero.\n",
      "    \n",
      "    log2(x, /)\n",
      "        Return the base 2 logarithm of x.\n",
      "    \n",
      "    modf(x, /)\n",
      "        Return the fractional and integer parts of x.\n",
      "        \n",
      "        Both results carry the sign of x and are floats.\n",
      "    \n",
      "    nextafter(x, y, /)\n",
      "        Return the next floating-point value after x towards y.\n",
      "    \n",
      "    perm(n, k=None, /)\n",
      "        Number of ways to choose k items from n items without repetition and with order.\n",
      "        \n",
      "        Evaluates to n! / (n - k)! when k <= n and evaluates\n",
      "        to zero when k > n.\n",
      "        \n",
      "        If k is not specified or is None, then k defaults to n\n",
      "        and the function returns n!.\n",
      "        \n",
      "        Raises TypeError if either of the arguments are not integers.\n",
      "        Raises ValueError if either of the arguments are negative.\n",
      "    \n",
      "    pow(x, y, /)\n",
      "        Return x**y (x to the power of y).\n",
      "    \n",
      "    prod(iterable, /, *, start=1)\n",
      "        Calculate the product of all the elements in the input iterable.\n",
      "        \n",
      "        The default start value for the product is 1.\n",
      "        \n",
      "        When the iterable is empty, return the start value.  This function is\n",
      "        intended specifically for use with numeric values and may reject\n",
      "        non-numeric types.\n",
      "    \n",
      "    radians(x, /)\n",
      "        Convert angle x from degrees to radians.\n",
      "    \n",
      "    remainder(x, y, /)\n",
      "        Difference between x and the closest integer multiple of y.\n",
      "        \n",
      "        Return x - n*y where n*y is the closest integer multiple of y.\n",
      "        In the case where x is exactly halfway between two multiples of\n",
      "        y, the nearest even value of n is used. The result is always exact.\n",
      "    \n",
      "    sin(x, /)\n",
      "        Return the sine of x (measured in radians).\n",
      "    \n",
      "    sinh(x, /)\n",
      "        Return the hyperbolic sine of x.\n",
      "    \n",
      "    sqrt(x, /)\n",
      "        Return the square root of x.\n",
      "    \n",
      "    tan(x, /)\n",
      "        Return the tangent of x (measured in radians).\n",
      "    \n",
      "    tanh(x, /)\n",
      "        Return the hyperbolic tangent of x.\n",
      "    \n",
      "    trunc(x, /)\n",
      "        Truncates the Real x to the nearest Integral toward 0.\n",
      "        \n",
      "        Uses the __trunc__ magic method.\n",
      "    \n",
      "    ulp(x, /)\n",
      "        Return the value of the least significant bit of the float x.\n",
      "\n",
      "DATA\n",
      "    e = 2.718281828459045\n",
      "    inf = inf\n",
      "    nan = nan\n",
      "    pi = 3.141592653589793\n",
      "    tau = 6.283185307179586\n",
      "\n",
      "FILE\n",
      "    (built-in)\n",
      "\n",
      "\n"
     ]
    }
   ],
   "source": [
    "import math\n",
    "help(math)\n"
   ]
  },
  {
   "cell_type": "raw",
   "id": "6136ef2e",
   "metadata": {},
   "source": [
    "13.1 Math Module\n",
    "The math module in Python provides a set of mathematical functions and constants for various mathematical operations.\n",
    "\n",
    "It is part of the Python Standard Library, so no additional\n",
    "\n",
    "However you need to import math module, to access functions and constants.\n",
    "\n",
    "Function\t Description\n",
    "\n",
    "math.ceil(x)\t  Returns the smallest integer greater than or equal to x.\n",
    "\n",
    "math.floor(x)\t Returns the largest integer less than or equal to x.\n",
    "\n",
    "math.sqrt(x)\t Returns the square root of x.\n",
    "\n",
    "math.pow(x, y)\t Returns x raised to the power of y.\n",
    "\n",
    "math.exp(x)\t Returns e raised to the power of x.\n",
    "\n",
    "math.log(x)\t Returns the natural logarithm (base e) of x\n",
    "\n",
    "math.log10(x)\t Returns the base-10 logarithm of x.\n",
    "\n",
    "math.sin(x)\t Returns the sine of x (in radians).\n",
    "\n",
    "math.cos(x)\t Returns the cosine of x (in radians).\n",
    "\n",
    "math.tan(x)\t Returns the tangent of x (in radians).\n",
    "\n",
    "math.radians(x)\t Converts x from degrees to radians\n",
    "\n",
    "math.degrees(x)\t Converts x from radians to degrees.\n",
    "\n",
    "math.pi\t Represents the mathematical constant π (pi).\n",
    "\n",
    "math.e\t Represents the mathematical constant e (Euler's number).\n",
    "                                                 \n",
    "math.factorial(x)\t Returns the factorial of x\n",
    "                                                 \n",
    "math.fabs(x)\t Returns the absolute value of x..\n",
    "                                                 \n",
    "                                                 "
   ]
  },
  {
   "cell_type": "code",
   "execution_count": 270,
   "id": "bc7a44c1",
   "metadata": {},
   "outputs": [
    {
     "data": {
      "text/plain": [
       "<module 'math' (built-in)>"
      ]
     },
     "execution_count": 270,
     "metadata": {},
     "output_type": "execute_result"
    }
   ],
   "source": [
    "# import module\n",
    "import math\n",
    "\n",
    "math"
   ]
  },
  {
   "cell_type": "code",
   "execution_count": 273,
   "id": "345c6eec",
   "metadata": {},
   "outputs": [
    {
     "name": "stdout",
     "output_type": "stream",
     "text": [
      "3\n",
      "4\n"
     ]
    }
   ],
   "source": [
    "# floor and ceil\n",
    "num = 3.9\n",
    "f=math.floor(num)\n",
    "c=math.ceil(num)\n",
    "\n",
    "print(f)\n",
    "print(c)"
   ]
  },
  {
   "cell_type": "code",
   "execution_count": 278,
   "id": "f2156d26",
   "metadata": {},
   "outputs": [
    {
     "data": {
      "text/plain": [
       "120"
      ]
     },
     "execution_count": 278,
     "metadata": {},
     "output_type": "execute_result"
    }
   ],
   "source": [
    "# factorial of number\n",
    "math.factorial(5)"
   ]
  },
  {
   "cell_type": "raw",
   "id": "a0334727",
   "metadata": {},
   "source": [
    "Recursion\n",
    "Recursion is process, where a function calls itself.\n",
    "factorial(7) = 7*6*5*4*3*2*1\n",
    "factorial(6) = 6*5*4*3*2*1\n",
    "factorial(5) = 5*4*3*2*1\n",
    "factorial(4) = 4*3*2*1\n",
    "::::::::::::\n",
    "factorial(0) = 1\n",
    "\n",
    "factorial(n) = n * factorial(n-1)"
   ]
  },
  {
   "cell_type": "code",
   "execution_count": 285,
   "id": "5387c205",
   "metadata": {},
   "outputs": [
    {
     "name": "stdout",
     "output_type": "stream",
     "text": [
      "40320\n"
     ]
    }
   ],
   "source": [
    "# write your program\n",
    "\n",
    "def factorial (n):\n",
    "    if (n==0 or n==1):\n",
    "     return 1\n",
    "    else:\n",
    "     return n*factorial(n-1)\n",
    "print(factorial(8))"
   ]
  },
  {
   "cell_type": "code",
   "execution_count": 318,
   "id": "e5734b40",
   "metadata": {},
   "outputs": [
    {
     "name": "stdout",
     "output_type": "stream",
     "text": [
      "240\n"
     ]
    }
   ],
   "source": [
    "#Write a python function to multiply all the numbers in a list\n",
    "\n",
    "def function(*args):\n",
    " mul=1\n",
    " for i in args:\n",
    "    \n",
    "    mul=mul*i\n",
    " return mul\n",
    "result=(function(1,2,4,6,5,))\n",
    "print(result)\n",
    "        \n",
    "        "
   ]
  },
  {
   "cell_type": "code",
   "execution_count": 325,
   "id": "44fbe9f6",
   "metadata": {},
   "outputs": [
    {
     "name": "stdout",
     "output_type": "stream",
     "text": [
      "noitcnuf\n"
     ]
    }
   ],
   "source": [
    "#Write a python function to reverse a string\n",
    "def reverse_string(input_string):\n",
    "    return input_string[::-1]\n",
    "\n",
    "# Example usage\n",
    "original_string = \"function\"\n",
    "reversed_result = reverse_string(original_string)\n",
    "print(reversed_result)\n"
   ]
  },
  {
   "cell_type": "code",
   "execution_count": 328,
   "id": "9f8b96f7",
   "metadata": {},
   "outputs": [
    {
     "name": "stdout",
     "output_type": "stream",
     "text": [
      "6\n"
     ]
    }
   ],
   "source": [
    "#Write a python function to find factorial of a given non negativenumber\n",
    "\n",
    "def factorial_number(n):\n",
    "    if(n==0 or n==1):\n",
    "        return 1\n",
    "    else:\n",
    "        return n*factorial(n-1)\n",
    "print(factorial(3))"
   ]
  },
  {
   "cell_type": "code",
   "execution_count": 332,
   "id": "cd11562c",
   "metadata": {},
   "outputs": [
    {
     "name": "stdout",
     "output_type": "stream",
     "text": [
      "NOHTYP\n"
     ]
    }
   ],
   "source": [
    "#Write a python function to reverse a string\n",
    "\n",
    "def reverse_function(string):\n",
    " return string[::-1]\n",
    "\n",
    "\n",
    "Given_String=\"PYTHON\"\n",
    "result=reverse_function(Given_String)\n",
    "print(result)"
   ]
  },
  {
   "cell_type": "code",
   "execution_count": 343,
   "id": "333a316b",
   "metadata": {},
   "outputs": [
    {
     "name": "stdout",
     "output_type": "stream",
     "text": [
      "Number of uppercase letters: 7\n",
      "Number of lowercase letters: 6\n"
     ]
    }
   ],
   "source": [
    "# Write a python function that accepts a string and calculate the number of upper case letters and lower case letters\n",
    "def count_upper_lower(input_string):\n",
    "    upper_count = 0\n",
    "    lower_count = 0\n",
    "\n",
    "    for char in input_string:\n",
    "        if char.isupper():\n",
    "            upper_count += 1\n",
    "        elif char.islower():\n",
    "            lower_count += 1\n",
    "\n",
    "    return upper_count, lower_count\n",
    "\n",
    "# Example usage\n",
    "input_string = \"UPPERANdlower\"\n",
    "result = count_upper_lower(input_string)\n",
    "print(f\"Number of uppercase letters: {result[0]}\")\n",
    "print(f\"Number of lowercase letters: {result[1]}\")\n",
    "\n"
   ]
  },
  {
   "cell_type": "code",
   "execution_count": 346,
   "id": "6ad94e40",
   "metadata": {},
   "outputs": [
    {
     "name": "stdout",
     "output_type": "stream",
     "text": [
      "[1, 2, 3, 4, 5]\n"
     ]
    }
   ],
   "source": [
    "#Write a python function that takes a list and returns a new list with unique elements of the first list\n",
    "\n",
    "def unique_elements(input_list):\n",
    "    return list(set(input_list))\n",
    "\n",
    "input_list=[1,2,3,2,4,3,5,5]\n",
    "result=unique_elements(input_list)\n",
    "print(result)"
   ]
  },
  {
   "cell_type": "code",
   "execution_count": 359,
   "id": "09baa308",
   "metadata": {},
   "outputs": [
    {
     "name": "stdout",
     "output_type": "stream",
     "text": [
      "The given number 8 is not prime.\n"
     ]
    }
   ],
   "source": [
    "#Write a Python function that takes a number as a parameter and check the number is prime or not.\n",
    "\n",
    "def is_prime(n):\n",
    "    if n > 1:\n",
    "        for i in range(2, int(n**0.5) + 1):\n",
    "            if n % i == 0:\n",
    "                print(f'The given number {n} is not prime.')\n",
    "                break\n",
    "        else:\n",
    "            print(f'The given number {n} is prime.')\n",
    "    else:\n",
    "        print(f'The given number {n} is not prime.')\n",
    "\n",
    "# Example usage\n",
    "result = is_prime(8)\n",
    "\n"
   ]
  },
  {
   "cell_type": "code",
   "execution_count": 388,
   "id": "e3748464",
   "metadata": {},
   "outputs": [
    {
     "name": "stdout",
     "output_type": "stream",
     "text": [
      "The even numbers are [2, 4, 8]\n"
     ]
    }
   ],
   "source": [
    " #Write a python function to print the even numbers from a given list.\n",
    "    \n",
    "def even_number(n):\n",
    "    even_numbers = []\n",
    "    odd_numbers = []\n",
    "\n",
    "    for i in n:\n",
    "        if i % 2 == 0:\n",
    "            even_numbers.append(i)\n",
    "        else:\n",
    "            odd_numbers.append(i)\n",
    "\n",
    "    if even_numbers:\n",
    "        return f'The even numbers are {even_numbers}'\n",
    "    else:\n",
    "        return f'There are no even numbers. The odd numbers are {odd_numbers}'\n",
    "\n",
    "# Example usage\n",
    "n = {2, 3, 4, 5, 7, 8}\n",
    "result = even_number(n)\n",
    "print(result)\n",
    "\n",
    "            "
   ]
  },
  {
   "cell_type": "code",
   "execution_count": null,
   "id": "3a92ba25",
   "metadata": {},
   "outputs": [],
   "source": []
  }
 ],
 "metadata": {
  "kernelspec": {
   "display_name": "Python 3 (ipykernel)",
   "language": "python",
   "name": "python3"
  },
  "language_info": {
   "codemirror_mode": {
    "name": "ipython",
    "version": 3
   },
   "file_extension": ".py",
   "mimetype": "text/x-python",
   "name": "python",
   "nbconvert_exporter": "python",
   "pygments_lexer": "ipython3",
   "version": "3.10.9"
  }
 },
 "nbformat": 4,
 "nbformat_minor": 5
}
